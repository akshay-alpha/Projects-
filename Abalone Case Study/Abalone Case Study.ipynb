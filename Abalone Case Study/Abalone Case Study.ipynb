{
 "cells": [
  {
   "cell_type": "code",
   "execution_count": 4,
   "id": "b1fc017c",
   "metadata": {},
   "outputs": [],
   "source": [
    "#import all the necessary libraries\n",
    "\n",
    "import numpy as np\n",
    "import pandas as pd\n",
    "import matplotlib.pyplot as plt\n",
    "import seaborn as sns\n",
    "\n",
    "import warnings\n",
    "warnings.filterwarnings('ignore')\n",
    "\n",
    "%matplotlib inline"
   ]
  },
  {
   "cell_type": "code",
   "execution_count": 5,
   "id": "c9fb25e6",
   "metadata": {
    "scrolled": true
   },
   "outputs": [
    {
     "data": {
      "text/html": [
       "<div>\n",
       "<style scoped>\n",
       "    .dataframe tbody tr th:only-of-type {\n",
       "        vertical-align: middle;\n",
       "    }\n",
       "\n",
       "    .dataframe tbody tr th {\n",
       "        vertical-align: top;\n",
       "    }\n",
       "\n",
       "    .dataframe thead th {\n",
       "        text-align: right;\n",
       "    }\n",
       "</style>\n",
       "<table border=\"1\" class=\"dataframe\">\n",
       "  <thead>\n",
       "    <tr style=\"text-align: right;\">\n",
       "      <th></th>\n",
       "      <th>Sex</th>\n",
       "      <th>Length</th>\n",
       "      <th>Diameter</th>\n",
       "      <th>Height</th>\n",
       "      <th>Whole weight</th>\n",
       "      <th>Shucked weight</th>\n",
       "      <th>Viscera weight</th>\n",
       "      <th>Shell weight</th>\n",
       "      <th>Rings</th>\n",
       "    </tr>\n",
       "  </thead>\n",
       "  <tbody>\n",
       "    <tr>\n",
       "      <th>0</th>\n",
       "      <td>M</td>\n",
       "      <td>0.455</td>\n",
       "      <td>0.365</td>\n",
       "      <td>0.095</td>\n",
       "      <td>0.5140</td>\n",
       "      <td>0.2245</td>\n",
       "      <td>0.1010</td>\n",
       "      <td>0.1500</td>\n",
       "      <td>15</td>\n",
       "    </tr>\n",
       "    <tr>\n",
       "      <th>1</th>\n",
       "      <td>M</td>\n",
       "      <td>0.350</td>\n",
       "      <td>0.265</td>\n",
       "      <td>0.090</td>\n",
       "      <td>0.2255</td>\n",
       "      <td>0.0995</td>\n",
       "      <td>0.0485</td>\n",
       "      <td>0.0700</td>\n",
       "      <td>7</td>\n",
       "    </tr>\n",
       "    <tr>\n",
       "      <th>2</th>\n",
       "      <td>F</td>\n",
       "      <td>0.530</td>\n",
       "      <td>0.420</td>\n",
       "      <td>0.135</td>\n",
       "      <td>0.6770</td>\n",
       "      <td>0.2565</td>\n",
       "      <td>0.1415</td>\n",
       "      <td>0.2100</td>\n",
       "      <td>9</td>\n",
       "    </tr>\n",
       "    <tr>\n",
       "      <th>3</th>\n",
       "      <td>M</td>\n",
       "      <td>0.440</td>\n",
       "      <td>0.365</td>\n",
       "      <td>0.125</td>\n",
       "      <td>0.5160</td>\n",
       "      <td>0.2155</td>\n",
       "      <td>0.1140</td>\n",
       "      <td>0.1550</td>\n",
       "      <td>10</td>\n",
       "    </tr>\n",
       "    <tr>\n",
       "      <th>4</th>\n",
       "      <td>I</td>\n",
       "      <td>0.330</td>\n",
       "      <td>0.255</td>\n",
       "      <td>0.080</td>\n",
       "      <td>0.2050</td>\n",
       "      <td>0.0895</td>\n",
       "      <td>0.0395</td>\n",
       "      <td>0.0550</td>\n",
       "      <td>7</td>\n",
       "    </tr>\n",
       "    <tr>\n",
       "      <th>...</th>\n",
       "      <td>...</td>\n",
       "      <td>...</td>\n",
       "      <td>...</td>\n",
       "      <td>...</td>\n",
       "      <td>...</td>\n",
       "      <td>...</td>\n",
       "      <td>...</td>\n",
       "      <td>...</td>\n",
       "      <td>...</td>\n",
       "    </tr>\n",
       "    <tr>\n",
       "      <th>4172</th>\n",
       "      <td>F</td>\n",
       "      <td>0.565</td>\n",
       "      <td>0.450</td>\n",
       "      <td>0.165</td>\n",
       "      <td>0.8870</td>\n",
       "      <td>0.3700</td>\n",
       "      <td>0.2390</td>\n",
       "      <td>0.2490</td>\n",
       "      <td>11</td>\n",
       "    </tr>\n",
       "    <tr>\n",
       "      <th>4173</th>\n",
       "      <td>M</td>\n",
       "      <td>0.590</td>\n",
       "      <td>0.440</td>\n",
       "      <td>0.135</td>\n",
       "      <td>0.9660</td>\n",
       "      <td>0.4390</td>\n",
       "      <td>0.2145</td>\n",
       "      <td>0.2605</td>\n",
       "      <td>10</td>\n",
       "    </tr>\n",
       "    <tr>\n",
       "      <th>4174</th>\n",
       "      <td>M</td>\n",
       "      <td>0.600</td>\n",
       "      <td>0.475</td>\n",
       "      <td>0.205</td>\n",
       "      <td>1.1760</td>\n",
       "      <td>0.5255</td>\n",
       "      <td>0.2875</td>\n",
       "      <td>0.3080</td>\n",
       "      <td>9</td>\n",
       "    </tr>\n",
       "    <tr>\n",
       "      <th>4175</th>\n",
       "      <td>F</td>\n",
       "      <td>0.625</td>\n",
       "      <td>0.485</td>\n",
       "      <td>0.150</td>\n",
       "      <td>1.0945</td>\n",
       "      <td>0.5310</td>\n",
       "      <td>0.2610</td>\n",
       "      <td>0.2960</td>\n",
       "      <td>10</td>\n",
       "    </tr>\n",
       "    <tr>\n",
       "      <th>4176</th>\n",
       "      <td>M</td>\n",
       "      <td>0.710</td>\n",
       "      <td>0.555</td>\n",
       "      <td>0.195</td>\n",
       "      <td>1.9485</td>\n",
       "      <td>0.9455</td>\n",
       "      <td>0.3765</td>\n",
       "      <td>0.4950</td>\n",
       "      <td>12</td>\n",
       "    </tr>\n",
       "  </tbody>\n",
       "</table>\n",
       "<p>4177 rows × 9 columns</p>\n",
       "</div>"
      ],
      "text/plain": [
       "     Sex  Length  Diameter  Height  Whole weight  Shucked weight  Viscera weight  Shell weight  Rings\n",
       "0      M   0.455     0.365   0.095        0.5140          0.2245          0.1010        0.1500     15\n",
       "1      M   0.350     0.265   0.090        0.2255          0.0995          0.0485        0.0700      7\n",
       "2      F   0.530     0.420   0.135        0.6770          0.2565          0.1415        0.2100      9\n",
       "3      M   0.440     0.365   0.125        0.5160          0.2155          0.1140        0.1550     10\n",
       "4      I   0.330     0.255   0.080        0.2050          0.0895          0.0395        0.0550      7\n",
       "...   ..     ...       ...     ...           ...             ...             ...           ...    ...\n",
       "4172   F   0.565     0.450   0.165        0.8870          0.3700          0.2390        0.2490     11\n",
       "4173   M   0.590     0.440   0.135        0.9660          0.4390          0.2145        0.2605     10\n",
       "4174   M   0.600     0.475   0.205        1.1760          0.5255          0.2875        0.3080      9\n",
       "4175   F   0.625     0.485   0.150        1.0945          0.5310          0.2610        0.2960     10\n",
       "4176   M   0.710     0.555   0.195        1.9485          0.9455          0.3765        0.4950     12\n",
       "\n",
       "[4177 rows x 9 columns]"
      ]
     },
     "execution_count": 5,
     "metadata": {},
     "output_type": "execute_result"
    }
   ],
   "source": [
    "#import the data\n",
    "data = pd.read_csv(\"abalone.csv\")\n",
    "data"
   ]
  },
  {
   "cell_type": "code",
   "execution_count": 6,
   "id": "1139ba1a",
   "metadata": {},
   "outputs": [
    {
     "name": "stdout",
     "output_type": "stream",
     "text": [
      "<class 'pandas.core.frame.DataFrame'>\n",
      "RangeIndex: 4177 entries, 0 to 4176\n",
      "Data columns (total 9 columns):\n",
      " #   Column          Non-Null Count  Dtype  \n",
      "---  ------          --------------  -----  \n",
      " 0   Sex             4177 non-null   object \n",
      " 1   Length          4177 non-null   float64\n",
      " 2   Diameter        4177 non-null   float64\n",
      " 3   Height          4177 non-null   float64\n",
      " 4   Whole weight    4177 non-null   float64\n",
      " 5   Shucked weight  4177 non-null   float64\n",
      " 6   Viscera weight  4177 non-null   float64\n",
      " 7   Shell weight    4177 non-null   float64\n",
      " 8   Rings           4177 non-null   int64  \n",
      "dtypes: float64(7), int64(1), object(1)\n",
      "memory usage: 293.8+ KB\n",
      "None\n"
     ]
    },
    {
     "data": {
      "text/html": [
       "<div>\n",
       "<style scoped>\n",
       "    .dataframe tbody tr th:only-of-type {\n",
       "        vertical-align: middle;\n",
       "    }\n",
       "\n",
       "    .dataframe tbody tr th {\n",
       "        vertical-align: top;\n",
       "    }\n",
       "\n",
       "    .dataframe thead th {\n",
       "        text-align: right;\n",
       "    }\n",
       "</style>\n",
       "<table border=\"1\" class=\"dataframe\">\n",
       "  <thead>\n",
       "    <tr style=\"text-align: right;\">\n",
       "      <th></th>\n",
       "      <th>Length</th>\n",
       "      <th>Diameter</th>\n",
       "      <th>Height</th>\n",
       "      <th>Whole weight</th>\n",
       "      <th>Shucked weight</th>\n",
       "      <th>Viscera weight</th>\n",
       "      <th>Shell weight</th>\n",
       "      <th>Rings</th>\n",
       "    </tr>\n",
       "  </thead>\n",
       "  <tbody>\n",
       "    <tr>\n",
       "      <th>count</th>\n",
       "      <td>4177.000000</td>\n",
       "      <td>4177.000000</td>\n",
       "      <td>4177.000000</td>\n",
       "      <td>4177.000000</td>\n",
       "      <td>4177.000000</td>\n",
       "      <td>4177.000000</td>\n",
       "      <td>4177.000000</td>\n",
       "      <td>4177.000000</td>\n",
       "    </tr>\n",
       "    <tr>\n",
       "      <th>mean</th>\n",
       "      <td>0.523992</td>\n",
       "      <td>0.407881</td>\n",
       "      <td>0.139516</td>\n",
       "      <td>0.828742</td>\n",
       "      <td>0.359367</td>\n",
       "      <td>0.180594</td>\n",
       "      <td>0.238831</td>\n",
       "      <td>9.933684</td>\n",
       "    </tr>\n",
       "    <tr>\n",
       "      <th>std</th>\n",
       "      <td>0.120093</td>\n",
       "      <td>0.099240</td>\n",
       "      <td>0.041827</td>\n",
       "      <td>0.490389</td>\n",
       "      <td>0.221963</td>\n",
       "      <td>0.109614</td>\n",
       "      <td>0.139203</td>\n",
       "      <td>3.224169</td>\n",
       "    </tr>\n",
       "    <tr>\n",
       "      <th>min</th>\n",
       "      <td>0.075000</td>\n",
       "      <td>0.055000</td>\n",
       "      <td>0.000000</td>\n",
       "      <td>0.002000</td>\n",
       "      <td>0.001000</td>\n",
       "      <td>0.000500</td>\n",
       "      <td>0.001500</td>\n",
       "      <td>1.000000</td>\n",
       "    </tr>\n",
       "    <tr>\n",
       "      <th>25%</th>\n",
       "      <td>0.450000</td>\n",
       "      <td>0.350000</td>\n",
       "      <td>0.115000</td>\n",
       "      <td>0.441500</td>\n",
       "      <td>0.186000</td>\n",
       "      <td>0.093500</td>\n",
       "      <td>0.130000</td>\n",
       "      <td>8.000000</td>\n",
       "    </tr>\n",
       "    <tr>\n",
       "      <th>50%</th>\n",
       "      <td>0.545000</td>\n",
       "      <td>0.425000</td>\n",
       "      <td>0.140000</td>\n",
       "      <td>0.799500</td>\n",
       "      <td>0.336000</td>\n",
       "      <td>0.171000</td>\n",
       "      <td>0.234000</td>\n",
       "      <td>9.000000</td>\n",
       "    </tr>\n",
       "    <tr>\n",
       "      <th>75%</th>\n",
       "      <td>0.615000</td>\n",
       "      <td>0.480000</td>\n",
       "      <td>0.165000</td>\n",
       "      <td>1.153000</td>\n",
       "      <td>0.502000</td>\n",
       "      <td>0.253000</td>\n",
       "      <td>0.329000</td>\n",
       "      <td>11.000000</td>\n",
       "    </tr>\n",
       "    <tr>\n",
       "      <th>max</th>\n",
       "      <td>0.815000</td>\n",
       "      <td>0.650000</td>\n",
       "      <td>1.130000</td>\n",
       "      <td>2.825500</td>\n",
       "      <td>1.488000</td>\n",
       "      <td>0.760000</td>\n",
       "      <td>1.005000</td>\n",
       "      <td>29.000000</td>\n",
       "    </tr>\n",
       "  </tbody>\n",
       "</table>\n",
       "</div>"
      ],
      "text/plain": [
       "            Length     Diameter       Height  Whole weight  Shucked weight  Viscera weight  Shell weight        Rings\n",
       "count  4177.000000  4177.000000  4177.000000   4177.000000     4177.000000     4177.000000   4177.000000  4177.000000\n",
       "mean      0.523992     0.407881     0.139516      0.828742        0.359367        0.180594      0.238831     9.933684\n",
       "std       0.120093     0.099240     0.041827      0.490389        0.221963        0.109614      0.139203     3.224169\n",
       "min       0.075000     0.055000     0.000000      0.002000        0.001000        0.000500      0.001500     1.000000\n",
       "25%       0.450000     0.350000     0.115000      0.441500        0.186000        0.093500      0.130000     8.000000\n",
       "50%       0.545000     0.425000     0.140000      0.799500        0.336000        0.171000      0.234000     9.000000\n",
       "75%       0.615000     0.480000     0.165000      1.153000        0.502000        0.253000      0.329000    11.000000\n",
       "max       0.815000     0.650000     1.130000      2.825500        1.488000        0.760000      1.005000    29.000000"
      ]
     },
     "execution_count": 6,
     "metadata": {},
     "output_type": "execute_result"
    }
   ],
   "source": [
    "#check the type of data and statistics for data analysis\n",
    "print(data.info())\n",
    "data.describe()"
   ]
  },
  {
   "cell_type": "code",
   "execution_count": 7,
   "id": "eeec932d",
   "metadata": {},
   "outputs": [
    {
     "data": {
      "text/plain": [
       "Sex               0\n",
       "Length            0\n",
       "Diameter          0\n",
       "Height            0\n",
       "Whole weight      0\n",
       "Shucked weight    0\n",
       "Viscera weight    0\n",
       "Shell weight      0\n",
       "Rings             0\n",
       "dtype: int64"
      ]
     },
     "execution_count": 7,
     "metadata": {},
     "output_type": "execute_result"
    }
   ],
   "source": [
    "#checking for the null values\n",
    "data.isnull().sum()"
   ]
  },
  {
   "cell_type": "code",
   "execution_count": 8,
   "id": "14a85d8d",
   "metadata": {},
   "outputs": [
    {
     "data": {
      "text/plain": [
       "array(['M', 'F', 'I'], dtype=object)"
      ]
     },
     "execution_count": 8,
     "metadata": {},
     "output_type": "execute_result"
    }
   ],
   "source": [
    "#checking unique values in categorical variables\n",
    "data['Sex'].unique()"
   ]
  },
  {
   "cell_type": "code",
   "execution_count": 9,
   "id": "48fe19cf",
   "metadata": {},
   "outputs": [
    {
     "data": {
      "text/plain": [
       "Text(0.5, 1.0, 'Count of the Gender of Abalone')"
      ]
     },
     "execution_count": 9,
     "metadata": {},
     "output_type": "execute_result"
    },
    {
     "data": {
      "image/png": "[encoded data removed]",
      "text/plain": [
       "<Figure size 432x288 with 1 Axes>"
      ]
     },
     "metadata": {
      "needs_background": "light"
     },
     "output_type": "display_data"
    }
   ],
   "source": [
    "#plotting the count of categorical feature \n",
    "sns.countplot(data['Sex'], palette=\"Set3\")\n",
    "plt.title('Count of the Gender of Abalone')"
   ]
  },
  {
   "cell_type": "code",
   "execution_count": 10,
   "id": "cd2ff28e",
   "metadata": {},
   "outputs": [
    {
     "data": {
      "text/plain": [
       "Index(['Sex', 'Length', 'Diameter', 'Height', 'Whole weight', 'Shucked weight',\n",
       "       'Viscera weight', 'Shell weight', 'Rings'],\n",
       "      dtype='object')"
      ]
     },
     "execution_count": 10,
     "metadata": {},
     "output_type": "execute_result"
    }
   ],
   "source": [
    "#checking for the column names\n",
    "data.columns"
   ]
  },
  {
   "cell_type": "code",
   "execution_count": 11,
   "id": "918426a9",
   "metadata": {},
   "outputs": [
    {
     "data": {
      "text/html": [
       "<div>\n",
       "<style scoped>\n",
       "    .dataframe tbody tr th:only-of-type {\n",
       "        vertical-align: middle;\n",
       "    }\n",
       "\n",
       "    .dataframe tbody tr th {\n",
       "        vertical-align: top;\n",
       "    }\n",
       "\n",
       "    .dataframe thead th {\n",
       "        text-align: right;\n",
       "    }\n",
       "</style>\n",
       "<table border=\"1\" class=\"dataframe\">\n",
       "  <thead>\n",
       "    <tr style=\"text-align: right;\">\n",
       "      <th></th>\n",
       "      <th>Length</th>\n",
       "      <th>Diameter</th>\n",
       "      <th>Height</th>\n",
       "      <th>Whole weight</th>\n",
       "      <th>Shucked weight</th>\n",
       "      <th>Viscera weight</th>\n",
       "      <th>Shell weight</th>\n",
       "      <th>Rings</th>\n",
       "      <th>Sex_I</th>\n",
       "      <th>Sex_M</th>\n",
       "    </tr>\n",
       "  </thead>\n",
       "  <tbody>\n",
       "    <tr>\n",
       "      <th>0</th>\n",
       "      <td>0.455</td>\n",
       "      <td>0.365</td>\n",
       "      <td>0.095</td>\n",
       "      <td>0.5140</td>\n",
       "      <td>0.2245</td>\n",
       "      <td>0.1010</td>\n",
       "      <td>0.150</td>\n",
       "      <td>15</td>\n",
       "      <td>0</td>\n",
       "      <td>1</td>\n",
       "    </tr>\n",
       "    <tr>\n",
       "      <th>1</th>\n",
       "      <td>0.350</td>\n",
       "      <td>0.265</td>\n",
       "      <td>0.090</td>\n",
       "      <td>0.2255</td>\n",
       "      <td>0.0995</td>\n",
       "      <td>0.0485</td>\n",
       "      <td>0.070</td>\n",
       "      <td>7</td>\n",
       "      <td>0</td>\n",
       "      <td>1</td>\n",
       "    </tr>\n",
       "    <tr>\n",
       "      <th>2</th>\n",
       "      <td>0.530</td>\n",
       "      <td>0.420</td>\n",
       "      <td>0.135</td>\n",
       "      <td>0.6770</td>\n",
       "      <td>0.2565</td>\n",
       "      <td>0.1415</td>\n",
       "      <td>0.210</td>\n",
       "      <td>9</td>\n",
       "      <td>0</td>\n",
       "      <td>0</td>\n",
       "    </tr>\n",
       "    <tr>\n",
       "      <th>3</th>\n",
       "      <td>0.440</td>\n",
       "      <td>0.365</td>\n",
       "      <td>0.125</td>\n",
       "      <td>0.5160</td>\n",
       "      <td>0.2155</td>\n",
       "      <td>0.1140</td>\n",
       "      <td>0.155</td>\n",
       "      <td>10</td>\n",
       "      <td>0</td>\n",
       "      <td>1</td>\n",
       "    </tr>\n",
       "    <tr>\n",
       "      <th>4</th>\n",
       "      <td>0.330</td>\n",
       "      <td>0.255</td>\n",
       "      <td>0.080</td>\n",
       "      <td>0.2050</td>\n",
       "      <td>0.0895</td>\n",
       "      <td>0.0395</td>\n",
       "      <td>0.055</td>\n",
       "      <td>7</td>\n",
       "      <td>1</td>\n",
       "      <td>0</td>\n",
       "    </tr>\n",
       "  </tbody>\n",
       "</table>\n",
       "</div>"
      ],
      "text/plain": [
       "   Length  Diameter  Height  Whole weight  Shucked weight  Viscera weight  Shell weight  Rings  Sex_I  Sex_M\n",
       "0   0.455     0.365   0.095        0.5140          0.2245          0.1010         0.150     15      0      1\n",
       "1   0.350     0.265   0.090        0.2255          0.0995          0.0485         0.070      7      0      1\n",
       "2   0.530     0.420   0.135        0.6770          0.2565          0.1415         0.210      9      0      0\n",
       "3   0.440     0.365   0.125        0.5160          0.2155          0.1140         0.155     10      0      1\n",
       "4   0.330     0.255   0.080        0.2050          0.0895          0.0395         0.055      7      1      0"
      ]
     },
     "execution_count": 11,
     "metadata": {},
     "output_type": "execute_result"
    }
   ],
   "source": [
    "data = pd.get_dummies(data, drop_first=True)\n",
    "data.head()"
   ]
  },
  {
   "cell_type": "code",
   "execution_count": 12,
   "id": "af73e873",
   "metadata": {},
   "outputs": [
    {
     "data": {
      "image/png": "[encoded data removed]",
      "text/plain": [
       "<Figure size 598.375x540 with 12 Axes>"
      ]
     },
     "metadata": {
      "needs_background": "light"
     },
     "output_type": "display_data"
    }
   ],
   "source": [
    "col = ['Diameter','Length','Viscera weight','Shell weight']\n",
    "corr = data.corr() \n",
    "sns.pairplot(data[col], hue='Length')\n",
    "plt.show()"
   ]
  },
  {
   "cell_type": "code",
   "execution_count": 13,
   "id": "a11ee41c",
   "metadata": {},
   "outputs": [
    {
     "data": {
      "text/html": [
       "<div>\n",
       "<style scoped>\n",
       "    .dataframe tbody tr th:only-of-type {\n",
       "        vertical-align: middle;\n",
       "    }\n",
       "\n",
       "    .dataframe tbody tr th {\n",
       "        vertical-align: top;\n",
       "    }\n",
       "\n",
       "    .dataframe thead th {\n",
       "        text-align: right;\n",
       "    }\n",
       "</style>\n",
       "<table border=\"1\" class=\"dataframe\">\n",
       "  <thead>\n",
       "    <tr style=\"text-align: right;\">\n",
       "      <th></th>\n",
       "      <th>Length</th>\n",
       "      <th>Diameter</th>\n",
       "      <th>Height</th>\n",
       "      <th>Whole weight</th>\n",
       "      <th>Shucked weight</th>\n",
       "      <th>Viscera weight</th>\n",
       "      <th>Shell weight</th>\n",
       "      <th>Rings</th>\n",
       "      <th>Sex_I</th>\n",
       "      <th>Sex_M</th>\n",
       "    </tr>\n",
       "  </thead>\n",
       "  <tbody>\n",
       "    <tr>\n",
       "      <th>1257</th>\n",
       "      <td>0.430</td>\n",
       "      <td>0.34</td>\n",
       "      <td>0.0</td>\n",
       "      <td>0.428</td>\n",
       "      <td>0.2065</td>\n",
       "      <td>0.0860</td>\n",
       "      <td>0.1150</td>\n",
       "      <td>8</td>\n",
       "      <td>1</td>\n",
       "      <td>0</td>\n",
       "    </tr>\n",
       "    <tr>\n",
       "      <th>3996</th>\n",
       "      <td>0.315</td>\n",
       "      <td>0.23</td>\n",
       "      <td>0.0</td>\n",
       "      <td>0.134</td>\n",
       "      <td>0.0575</td>\n",
       "      <td>0.0285</td>\n",
       "      <td>0.3505</td>\n",
       "      <td>6</td>\n",
       "      <td>1</td>\n",
       "      <td>0</td>\n",
       "    </tr>\n",
       "  </tbody>\n",
       "</table>\n",
       "</div>"
      ],
      "text/plain": [
       "      Length  Diameter  Height  Whole weight  Shucked weight  Viscera weight  Shell weight  Rings  Sex_I  Sex_M\n",
       "1257   0.430      0.34     0.0         0.428          0.2065          0.0860        0.1150      8      1      0\n",
       "3996   0.315      0.23     0.0         0.134          0.0575          0.0285        0.3505      6      1      0"
      ]
     },
     "execution_count": 13,
     "metadata": {},
     "output_type": "execute_result"
    }
   ],
   "source": [
    "#height has zero values, find index and remove\n",
    "data[data['Height']==0]"
   ]
  },
  {
   "cell_type": "code",
   "execution_count": 14,
   "id": "2b2c09b0",
   "metadata": {},
   "outputs": [
    {
     "data": {
      "text/html": [
       "<div>\n",
       "<style scoped>\n",
       "    .dataframe tbody tr th:only-of-type {\n",
       "        vertical-align: middle;\n",
       "    }\n",
       "\n",
       "    .dataframe tbody tr th {\n",
       "        vertical-align: top;\n",
       "    }\n",
       "\n",
       "    .dataframe thead th {\n",
       "        text-align: right;\n",
       "    }\n",
       "</style>\n",
       "<table border=\"1\" class=\"dataframe\">\n",
       "  <thead>\n",
       "    <tr style=\"text-align: right;\">\n",
       "      <th></th>\n",
       "      <th>Length</th>\n",
       "      <th>Diameter</th>\n",
       "      <th>Height</th>\n",
       "      <th>Whole weight</th>\n",
       "      <th>Shucked weight</th>\n",
       "      <th>Viscera weight</th>\n",
       "      <th>Shell weight</th>\n",
       "      <th>Rings</th>\n",
       "      <th>Sex_I</th>\n",
       "      <th>Sex_M</th>\n",
       "    </tr>\n",
       "  </thead>\n",
       "  <tbody>\n",
       "    <tr>\n",
       "      <th>count</th>\n",
       "      <td>4175.000000</td>\n",
       "      <td>4175.00000</td>\n",
       "      <td>4175.000000</td>\n",
       "      <td>4175.000000</td>\n",
       "      <td>4175.000000</td>\n",
       "      <td>4175.000000</td>\n",
       "      <td>4175.000000</td>\n",
       "      <td>4175.000000</td>\n",
       "      <td>4175.000000</td>\n",
       "      <td>4175.000000</td>\n",
       "    </tr>\n",
       "    <tr>\n",
       "      <th>mean</th>\n",
       "      <td>0.524065</td>\n",
       "      <td>0.40794</td>\n",
       "      <td>0.139583</td>\n",
       "      <td>0.829005</td>\n",
       "      <td>0.359476</td>\n",
       "      <td>0.180653</td>\n",
       "      <td>0.238834</td>\n",
       "      <td>9.935090</td>\n",
       "      <td>0.320958</td>\n",
       "      <td>0.365988</td>\n",
       "    </tr>\n",
       "    <tr>\n",
       "      <th>std</th>\n",
       "      <td>0.120069</td>\n",
       "      <td>0.09922</td>\n",
       "      <td>0.041725</td>\n",
       "      <td>0.490349</td>\n",
       "      <td>0.221954</td>\n",
       "      <td>0.109605</td>\n",
       "      <td>0.139212</td>\n",
       "      <td>3.224227</td>\n",
       "      <td>0.466901</td>\n",
       "      <td>0.481764</td>\n",
       "    </tr>\n",
       "    <tr>\n",
       "      <th>min</th>\n",
       "      <td>0.075000</td>\n",
       "      <td>0.05500</td>\n",
       "      <td>0.010000</td>\n",
       "      <td>0.002000</td>\n",
       "      <td>0.001000</td>\n",
       "      <td>0.000500</td>\n",
       "      <td>0.001500</td>\n",
       "      <td>1.000000</td>\n",
       "      <td>0.000000</td>\n",
       "      <td>0.000000</td>\n",
       "    </tr>\n",
       "    <tr>\n",
       "      <th>25%</th>\n",
       "      <td>0.450000</td>\n",
       "      <td>0.35000</td>\n",
       "      <td>0.115000</td>\n",
       "      <td>0.442250</td>\n",
       "      <td>0.186250</td>\n",
       "      <td>0.093500</td>\n",
       "      <td>0.130000</td>\n",
       "      <td>8.000000</td>\n",
       "      <td>0.000000</td>\n",
       "      <td>0.000000</td>\n",
       "    </tr>\n",
       "    <tr>\n",
       "      <th>50%</th>\n",
       "      <td>0.545000</td>\n",
       "      <td>0.42500</td>\n",
       "      <td>0.140000</td>\n",
       "      <td>0.800000</td>\n",
       "      <td>0.336000</td>\n",
       "      <td>0.171000</td>\n",
       "      <td>0.234000</td>\n",
       "      <td>9.000000</td>\n",
       "      <td>0.000000</td>\n",
       "      <td>0.000000</td>\n",
       "    </tr>\n",
       "    <tr>\n",
       "      <th>75%</th>\n",
       "      <td>0.615000</td>\n",
       "      <td>0.48000</td>\n",
       "      <td>0.165000</td>\n",
       "      <td>1.153500</td>\n",
       "      <td>0.502000</td>\n",
       "      <td>0.253000</td>\n",
       "      <td>0.328750</td>\n",
       "      <td>11.000000</td>\n",
       "      <td>1.000000</td>\n",
       "      <td>1.000000</td>\n",
       "    </tr>\n",
       "    <tr>\n",
       "      <th>max</th>\n",
       "      <td>0.815000</td>\n",
       "      <td>0.65000</td>\n",
       "      <td>1.130000</td>\n",
       "      <td>2.825500</td>\n",
       "      <td>1.488000</td>\n",
       "      <td>0.760000</td>\n",
       "      <td>1.005000</td>\n",
       "      <td>29.000000</td>\n",
       "      <td>1.000000</td>\n",
       "      <td>1.000000</td>\n",
       "    </tr>\n",
       "  </tbody>\n",
       "</table>\n",
       "</div>"
      ],
      "text/plain": [
       "            Length    Diameter       Height  Whole weight  ...  Shell weight        Rings        Sex_I        Sex_M\n",
       "count  4175.000000  4175.00000  4175.000000   4175.000000  ...   4175.000000  4175.000000  4175.000000  4175.000000\n",
       "mean      0.524065     0.40794     0.139583      0.829005  ...      0.238834     9.935090     0.320958     0.365988\n",
       "std       0.120069     0.09922     0.041725      0.490349  ...      0.139212     3.224227     0.466901     0.481764\n",
       "min       0.075000     0.05500     0.010000      0.002000  ...      0.001500     1.000000     0.000000     0.000000\n",
       "25%       0.450000     0.35000     0.115000      0.442250  ...      0.130000     8.000000     0.000000     0.000000\n",
       "50%       0.545000     0.42500     0.140000      0.800000  ...      0.234000     9.000000     0.000000     0.000000\n",
       "75%       0.615000     0.48000     0.165000      1.153500  ...      0.328750    11.000000     1.000000     1.000000\n",
       "max       0.815000     0.65000     1.130000      2.825500  ...      1.005000    29.000000     1.000000     1.000000\n",
       "\n",
       "[8 rows x 10 columns]"
      ]
     },
     "execution_count": 14,
     "metadata": {},
     "output_type": "execute_result"
    }
   ],
   "source": [
    "data.drop(index=[1257,3996], inplace=True)\n",
    "data.describe()"
   ]
  },
  {
   "cell_type": "code",
   "execution_count": 15,
   "id": "2a1e7607",
   "metadata": {},
   "outputs": [
    {
     "data": {
      "text/plain": [
       "(4175, 10)"
      ]
     },
     "execution_count": 15,
     "metadata": {},
     "output_type": "execute_result"
    }
   ],
   "source": [
    "#checking the duplicate values and droping if any\n",
    "data.drop_duplicates(inplace=True)\n",
    "data.shape"
   ]
  },
  {
   "cell_type": "code",
   "execution_count": 16,
   "id": "021cac2a",
   "metadata": {},
   "outputs": [
    {
     "data": {
      "image/png": "[encoded data removed]",
      "text/plain": [
       "<Figure size 720x720 with 2 Axes>"
      ]
     },
     "metadata": {},
     "output_type": "display_data"
    }
   ],
   "source": [
    "plt.figure(figsize=(10,10),facecolor='white')\n",
    "sns.heatmap(corr, annot=True)\n",
    "plt.show()"
   ]
  },
  {
   "cell_type": "markdown",
   "id": "b7edf173",
   "metadata": {},
   "source": [
    "### We can see whole weight and shucked weight, viscera weight are highly correlated length, Height and diameter are highly correlated\n",
    "### Removing those  columns"
   ]
  },
  {
   "cell_type": "code",
   "execution_count": 17,
   "id": "5a261468",
   "metadata": {},
   "outputs": [],
   "source": [
    "#Splitting independent and dependent variable\n",
    "\n",
    "X=data.drop(columns=['Rings','Diameter', 'Height', 'Shucked weight'])\n",
    "y=data['Rings'] "
   ]
  },
  {
   "cell_type": "code",
   "execution_count": 18,
   "id": "28c7c65d",
   "metadata": {},
   "outputs": [
    {
     "data": {
      "image/png": "[encoded data removed]",
      "text/plain": [
       "<Figure size 720x720 with 5 Axes>"
      ]
     },
     "metadata": {},
     "output_type": "display_data"
    }
   ],
   "source": [
    "#visualizing the data after removal of highly correlated columns\n",
    "plt.figure(figsize=(10,10),facecolor='w')\n",
    "ax = plt.subplot(2,3,1)\n",
    "sns.histplot(X['Length'],bins=50)\n",
    "plt.xlabel('Length',fontsize=20)\n",
    "\n",
    "\n",
    "ax = plt.subplot(2,3,2)\n",
    "sns.histplot(X['Viscera weight'],bins=50)\n",
    "plt.xlabel('Viscera weight',fontsize=20)\n",
    " \n",
    "ax = plt.subplot(2,3,3)\n",
    "sns.histplot(X['Shell weight'],bins=50)\n",
    "plt.xlabel('Shell weight',fontsize=20)\n",
    "\n",
    "\n",
    "ax = plt.subplot(2,3,4)\n",
    "sns.histplot(X['Whole weight'],bins=50)\n",
    "plt.xlabel('Whole weight',fontsize=20)\n",
    "\n",
    "ax = plt.subplot(2,3,4)\n",
    "sns.histplot(X['Shell weight'],bins=50)\n",
    "plt.xlabel('Whole weight',fontsize=20)\n",
    "\n",
    "ax = plt.subplot(2,3,5)\n",
    "sns.histplot(y,bins=50)\n",
    "plt.xlabel('Rings',fontsize=20)\n",
    "\n",
    "\n",
    "\n",
    "plt.show()"
   ]
  },
  {
   "cell_type": "code",
   "execution_count": 19,
   "id": "1ba10fc4",
   "metadata": {},
   "outputs": [
    {
     "data": {
      "text/html": [
       "<div>\n",
       "<style scoped>\n",
       "    .dataframe tbody tr th:only-of-type {\n",
       "        vertical-align: middle;\n",
       "    }\n",
       "\n",
       "    .dataframe tbody tr th {\n",
       "        vertical-align: top;\n",
       "    }\n",
       "\n",
       "    .dataframe thead th {\n",
       "        text-align: right;\n",
       "    }\n",
       "</style>\n",
       "<table border=\"1\" class=\"dataframe\">\n",
       "  <thead>\n",
       "    <tr style=\"text-align: right;\">\n",
       "      <th></th>\n",
       "      <th>Length</th>\n",
       "      <th>Diameter</th>\n",
       "      <th>Height</th>\n",
       "      <th>Whole weight</th>\n",
       "      <th>Shucked weight</th>\n",
       "      <th>Viscera weight</th>\n",
       "      <th>Shell weight</th>\n",
       "      <th>Rings</th>\n",
       "      <th>Sex_I</th>\n",
       "      <th>Sex_M</th>\n",
       "    </tr>\n",
       "  </thead>\n",
       "  <tbody>\n",
       "    <tr>\n",
       "      <th>count</th>\n",
       "      <td>4027.000000</td>\n",
       "      <td>4027.000000</td>\n",
       "      <td>4027.000000</td>\n",
       "      <td>4027.000000</td>\n",
       "      <td>4027.000000</td>\n",
       "      <td>4027.000000</td>\n",
       "      <td>4027.000000</td>\n",
       "      <td>4027.000000</td>\n",
       "      <td>4027.000000</td>\n",
       "      <td>4027.000000</td>\n",
       "    </tr>\n",
       "    <tr>\n",
       "      <th>mean</th>\n",
       "      <td>0.520987</td>\n",
       "      <td>0.405300</td>\n",
       "      <td>0.138002</td>\n",
       "      <td>0.802805</td>\n",
       "      <td>0.349099</td>\n",
       "      <td>0.175718</td>\n",
       "      <td>0.230676</td>\n",
       "      <td>9.738763</td>\n",
       "      <td>0.328284</td>\n",
       "      <td>0.361559</td>\n",
       "    </tr>\n",
       "    <tr>\n",
       "      <th>std</th>\n",
       "      <td>0.115910</td>\n",
       "      <td>0.095903</td>\n",
       "      <td>0.036878</td>\n",
       "      <td>0.456192</td>\n",
       "      <td>0.206406</td>\n",
       "      <td>0.103350</td>\n",
       "      <td>0.127939</td>\n",
       "      <td>2.864691</td>\n",
       "      <td>0.469647</td>\n",
       "      <td>0.480512</td>\n",
       "    </tr>\n",
       "    <tr>\n",
       "      <th>min</th>\n",
       "      <td>0.165000</td>\n",
       "      <td>0.115000</td>\n",
       "      <td>0.015000</td>\n",
       "      <td>0.014500</td>\n",
       "      <td>0.005500</td>\n",
       "      <td>0.000500</td>\n",
       "      <td>0.005000</td>\n",
       "      <td>3.000000</td>\n",
       "      <td>0.000000</td>\n",
       "      <td>0.000000</td>\n",
       "    </tr>\n",
       "    <tr>\n",
       "      <th>25%</th>\n",
       "      <td>0.450000</td>\n",
       "      <td>0.345000</td>\n",
       "      <td>0.115000</td>\n",
       "      <td>0.438000</td>\n",
       "      <td>0.182000</td>\n",
       "      <td>0.091750</td>\n",
       "      <td>0.127750</td>\n",
       "      <td>8.000000</td>\n",
       "      <td>0.000000</td>\n",
       "      <td>0.000000</td>\n",
       "    </tr>\n",
       "    <tr>\n",
       "      <th>50%</th>\n",
       "      <td>0.540000</td>\n",
       "      <td>0.420000</td>\n",
       "      <td>0.140000</td>\n",
       "      <td>0.783000</td>\n",
       "      <td>0.329500</td>\n",
       "      <td>0.167000</td>\n",
       "      <td>0.225000</td>\n",
       "      <td>9.000000</td>\n",
       "      <td>0.000000</td>\n",
       "      <td>0.000000</td>\n",
       "    </tr>\n",
       "    <tr>\n",
       "      <th>75%</th>\n",
       "      <td>0.610000</td>\n",
       "      <td>0.480000</td>\n",
       "      <td>0.165000</td>\n",
       "      <td>1.131250</td>\n",
       "      <td>0.493500</td>\n",
       "      <td>0.246500</td>\n",
       "      <td>0.320000</td>\n",
       "      <td>11.000000</td>\n",
       "      <td>1.000000</td>\n",
       "      <td>1.000000</td>\n",
       "    </tr>\n",
       "    <tr>\n",
       "      <th>max</th>\n",
       "      <td>0.760000</td>\n",
       "      <td>0.605000</td>\n",
       "      <td>0.250000</td>\n",
       "      <td>2.238500</td>\n",
       "      <td>1.017000</td>\n",
       "      <td>0.492500</td>\n",
       "      <td>0.655000</td>\n",
       "      <td>19.000000</td>\n",
       "      <td>1.000000</td>\n",
       "      <td>1.000000</td>\n",
       "    </tr>\n",
       "  </tbody>\n",
       "</table>\n",
       "</div>"
      ],
      "text/plain": [
       "            Length     Diameter       Height  Whole weight  ...  Shell weight        Rings        Sex_I        Sex_M\n",
       "count  4027.000000  4027.000000  4027.000000   4027.000000  ...   4027.000000  4027.000000  4027.000000  4027.000000\n",
       "mean      0.520987     0.405300     0.138002      0.802805  ...      0.230676     9.738763     0.328284     0.361559\n",
       "std       0.115910     0.095903     0.036878      0.456192  ...      0.127939     2.864691     0.469647     0.480512\n",
       "min       0.165000     0.115000     0.015000      0.014500  ...      0.005000     3.000000     0.000000     0.000000\n",
       "25%       0.450000     0.345000     0.115000      0.438000  ...      0.127750     8.000000     0.000000     0.000000\n",
       "50%       0.540000     0.420000     0.140000      0.783000  ...      0.225000     9.000000     0.000000     0.000000\n",
       "75%       0.610000     0.480000     0.165000      1.131250  ...      0.320000    11.000000     1.000000     1.000000\n",
       "max       0.760000     0.605000     0.250000      2.238500  ...      0.655000    19.000000     1.000000     1.000000\n",
       "\n",
       "[8 rows x 10 columns]"
      ]
     },
     "execution_count": 19,
     "metadata": {},
     "output_type": "execute_result"
    }
   ],
   "source": [
    "#Handling outliers using z-score\n",
    "from scipy.stats import zscore\n",
    "z_score = zscore(data)\n",
    "abs_z_score = np.abs(z_score)\n",
    "\n",
    "fiter_entry = (abs_z_score<3).all(axis=1)\n",
    "data = data[fiter_entry]\n",
    "data.describe()\n"
   ]
  },
  {
   "cell_type": "code",
   "execution_count": 20,
   "id": "706a1243",
   "metadata": {},
   "outputs": [
    {
     "data": {
      "image/png": "[encoded data removed]",
      "text/plain": [
       "<Figure size 288x288 with 1 Axes>"
      ]
     },
     "metadata": {
      "needs_background": "light"
     },
     "output_type": "display_data"
    }
   ],
   "source": [
    "plt.figure(figsize=(4,4))\n",
    "sns.countplot(y)\n",
    "plt.show()"
   ]
  },
  {
   "cell_type": "code",
   "execution_count": 21,
   "id": "8a34df49",
   "metadata": {},
   "outputs": [
    {
     "data": {
      "image/png": "[encoded data removed]",
      "text/plain": [
       "<Figure size 720x720 with 4 Axes>"
      ]
     },
     "metadata": {},
     "output_type": "display_data"
    }
   ],
   "source": [
    "#visualizing the data after removal of highly correlated columns\n",
    "plt.figure(figsize=(10,10),facecolor='w')\n",
    "ax = plt.subplot(2,3,1)\n",
    "sns.histplot(X['Length'],bins=50)\n",
    "plt.xlabel('Length',fontsize=20)\n",
    "\n",
    "\n",
    "ax = plt.subplot(2,3,2)\n",
    "sns.histplot(X['Viscera weight'],bins=50)\n",
    "plt.xlabel('Viscera weight',fontsize=20)\n",
    "\n",
    "ax = plt.subplot(2,3,3)\n",
    "sns.histplot(X['Shell weight'],bins=50)\n",
    "plt.xlabel('Shell weight',fontsize=20)\n",
    "\n",
    "\n",
    "ax = plt.subplot(2,3,4)\n",
    "sns.histplot(X['Whole weight'],bins=50)\n",
    "plt.xlabel('Whole weight',fontsize=20)\n",
    "\n",
    "plt.show()"
   ]
  },
  {
   "cell_type": "code",
   "execution_count": 22,
   "id": "46693777",
   "metadata": {},
   "outputs": [
    {
     "data": {
      "text/plain": [
       "Length            0.556464\n",
       "Whole weight      0.540151\n",
       "Viscera weight    0.503562\n",
       "Shell weight      0.627928\n",
       "Sex_I            -0.435747\n",
       "Sex_M             0.181565\n",
       "dtype: float64"
      ]
     },
     "execution_count": 22,
     "metadata": {},
     "output_type": "execute_result"
    }
   ],
   "source": [
    "X.corrwith(y)"
   ]
  },
  {
   "cell_type": "code",
   "execution_count": 23,
   "id": "ec3bed65",
   "metadata": {},
   "outputs": [
    {
     "data": {
      "text/plain": [
       "array([[-0.57527573, -0.64248543, -0.72680916, -0.63819465, -0.68750501,\n",
       "         1.31618002],\n",
       "       [-1.4498756 , -1.230912  , -1.20585737, -1.21292621, -0.68750501,\n",
       "         1.31618002],\n",
       "       [ 0.04943846, -0.31002952, -0.35725768, -0.20714599, -0.68750501,\n",
       "        -0.75977449],\n",
       "       ...,\n",
       "       [ 0.63250504,  0.70773429,  0.97495258,  0.49690017, -0.68750501,\n",
       "         1.31618002],\n",
       "       [ 0.8407431 ,  0.54150633,  0.73314729,  0.41069044, -0.68750501,\n",
       "        -0.75977449],\n",
       "       [ 1.54875252,  2.28333056,  1.78705336,  1.84033518, -0.68750501,\n",
       "         1.31618002]])"
      ]
     },
     "execution_count": 23,
     "metadata": {},
     "output_type": "execute_result"
    }
   ],
   "source": [
    "#Data standardization\n",
    "#Initialize #import  >> fit >>\n",
    "from sklearn.preprocessing import StandardScaler\n",
    "scaler = StandardScaler()\n",
    "X_scaler = scaler.fit_transform(X)\n",
    "X_scaler"
   ]
  },
  {
   "cell_type": "markdown",
   "id": "b6503dfb",
   "metadata": {},
   "source": [
    "### Train Test Split"
   ]
  },
  {
   "cell_type": "code",
   "execution_count": 24,
   "id": "31220f78",
   "metadata": {},
   "outputs": [],
   "source": [
    "#creating train and test data from the existing data set\n",
    "\n",
    "from sklearn.model_selection import train_test_split\n",
    "X_train, X_test, y_train, y_test = train_test_split(X_scaler, y,test_size=0.25, random_state=31)"
   ]
  },
  {
   "cell_type": "markdown",
   "id": "5c681ae5",
   "metadata": {},
   "source": [
    "### Model Building"
   ]
  },
  {
   "cell_type": "code",
   "execution_count": 25,
   "id": "171dc7e5",
   "metadata": {},
   "outputs": [],
   "source": [
    "#we are using 3 models to predict the target label and select the best model based on evaluation.\n",
    "\n",
    "from sklearn.linear_model import LinearRegression\n",
    "from sklearn.ensemble import RandomForestRegressor\n",
    "from xgboost import XGBRegressor\n",
    "\n",
    "from sklearn.metrics import mean_absolute_error,mean_squared_error, r2_score\n",
    "from sklearn.model_selection import cross_val_score, GridSearchCV, RandomizedSearchCV\n",
    "from sklearn.linear_model import Ridge, RidgeCV"
   ]
  },
  {
   "cell_type": "markdown",
   "id": "8d3e00de",
   "metadata": {},
   "source": [
    "### Linear Regression"
   ]
  },
  {
   "cell_type": "code",
   "execution_count": 26,
   "id": "d0019c7b",
   "metadata": {},
   "outputs": [
    {
     "data": {
      "text/plain": [
       "LinearRegression()"
      ]
     },
     "execution_count": 26,
     "metadata": {},
     "output_type": "execute_result"
    }
   ],
   "source": [
    "#instantiating and fitting the model\n",
    "regression = LinearRegression()\n",
    "regression.fit(X_train, y_train)"
   ]
  },
  {
   "cell_type": "code",
   "execution_count": 27,
   "id": "b6aa63b0",
   "metadata": {},
   "outputs": [
    {
     "data": {
      "text/plain": [
       "0.45379961082959674"
      ]
     },
     "execution_count": 27,
     "metadata": {},
     "output_type": "execute_result"
    }
   ],
   "source": [
    "regression.score(X_train, y_train)"
   ]
  },
  {
   "cell_type": "code",
   "execution_count": 28,
   "id": "88aaca83",
   "metadata": {},
   "outputs": [
    {
     "name": "stdout",
     "output_type": "stream",
     "text": [
      "Predicted R2 score of train data: 48.65311449463414\n"
     ]
    }
   ],
   "source": [
    "y_pred  = regression.predict(X_test)\n",
    "accuracy = r2_score(y_test, y_pred)\n",
    "print(\"Predicted R2 score of train data:\",accuracy*100)"
   ]
  },
  {
   "cell_type": "code",
   "execution_count": 29,
   "id": "821159c2",
   "metadata": {},
   "outputs": [
    {
     "data": {
      "image/png": "[encoded data removed]",
      "text/plain": [
       "<Figure size 432x288 with 1 Axes>"
      ]
     },
     "metadata": {
      "needs_background": "light"
     },
     "output_type": "display_data"
    }
   ],
   "source": [
    "#Visualizing the predicted vs actual data\n",
    "\n",
    "sns.regplot(x=y_test,y=y_pred)\n",
    "plt.xlabel(\"Actual\")\n",
    "plt.ylabel(\"Predicted\")\n",
    "\n",
    "plt.show()"
   ]
  },
  {
   "cell_type": "code",
   "execution_count": 30,
   "id": "0eeb2490",
   "metadata": {},
   "outputs": [
    {
     "name": "stdout",
     "output_type": "stream",
     "text": [
      "Mean Absolute Error: 1.7532190406005033\n",
      "Mean Squared Error 6.186374086106754\n"
     ]
    },
    {
     "data": {
      "text/plain": [
       "array([0.48621663, 0.54949825, 0.58086761, 0.46579126, 0.35939786])"
      ]
     },
     "execution_count": 30,
     "metadata": {},
     "output_type": "execute_result"
    }
   ],
   "source": [
    "print(\"Mean Absolute Error:\",mean_absolute_error(y_test, y_pred))\n",
    "print(\"Mean Squared Error\", mean_squared_error(y_test, y_pred))\n",
    "\n",
    "cross_val_score(regression,X_test, y_test)"
   ]
  },
  {
   "cell_type": "code",
   "execution_count": 31,
   "id": "faf3eab2",
   "metadata": {},
   "outputs": [
    {
     "data": {
      "text/plain": [
       "RidgeCV(alphas=array([0.0001, 0.0101, 0.0201, 0.0301, 0.0401, 0.0501, 0.0601, 0.0701,\n",
       "       0.0801, 0.0901]),\n",
       "        normalize=True)"
      ]
     },
     "execution_count": 31,
     "metadata": {},
     "output_type": "execute_result"
    }
   ],
   "source": [
    "ridgeCV =RidgeCV(alphas=np.arange(0.0001,0.1,0.01), normalize=True)\n",
    "ridgeCV.fit(X_train, y_train)"
   ]
  },
  {
   "cell_type": "code",
   "execution_count": 32,
   "id": "c7173ca2",
   "metadata": {},
   "outputs": [
    {
     "data": {
      "text/plain": [
       "Ridge(alpha=0.0001)"
      ]
     },
     "execution_count": 32,
     "metadata": {},
     "output_type": "execute_result"
    }
   ],
   "source": [
    "ridge_reg = Ridge(alpha=ridgeCV.alpha_)\n",
    "ridge_reg.fit(X_test, y_test)"
   ]
  },
  {
   "cell_type": "code",
   "execution_count": 33,
   "id": "ffa9e000",
   "metadata": {},
   "outputs": [
    {
     "data": {
      "text/plain": [
       "49.454759510951995"
      ]
     },
     "execution_count": 33,
     "metadata": {},
     "output_type": "execute_result"
    }
   ],
   "source": [
    "ridge_reg.score(X_test, y_test)*100"
   ]
  },
  {
   "cell_type": "code",
   "execution_count": 34,
   "id": "32072040",
   "metadata": {},
   "outputs": [
    {
     "name": "stdout",
     "output_type": "stream",
     "text": [
      "Mean Absolute Error: 1.7532190406005033\n",
      "Root Mean Squared Error 2.487242265262223\n"
     ]
    },
    {
     "data": {
      "text/plain": [
       "array([0.48621663, 0.54949825, 0.58086761, 0.46579126, 0.35939786])"
      ]
     },
     "execution_count": 34,
     "metadata": {},
     "output_type": "execute_result"
    }
   ],
   "source": [
    "print(\"Mean Absolute Error:\",mean_absolute_error(y_test, y_pred))\n",
    "print(\"Root Mean Squared Error\", mean_squared_error(y_test, y_pred, squared=False))\n",
    "\n",
    "cross_val_score(regression,X_test, y_test)"
   ]
  },
  {
   "cell_type": "markdown",
   "id": "47f1217b",
   "metadata": {},
   "source": [
    "### RandomForest"
   ]
  },
  {
   "cell_type": "code",
   "execution_count": 35,
   "id": "7afd6fce",
   "metadata": {},
   "outputs": [
    {
     "data": {
      "text/plain": [
       "RandomForestRegressor()"
      ]
     },
     "execution_count": 35,
     "metadata": {},
     "output_type": "execute_result"
    }
   ],
   "source": [
    "randomforest = RandomForestRegressor()\n",
    "randomforest.fit(X_train, y_train)"
   ]
  },
  {
   "cell_type": "code",
   "execution_count": 36,
   "id": "b081c15e",
   "metadata": {},
   "outputs": [
    {
     "name": "stdout",
     "output_type": "stream",
     "text": [
      "The prediction of test dataset: 48.04755217653928\n"
     ]
    }
   ],
   "source": [
    "#predicting the test datasets\n",
    "y_pred = randomforest.predict(X_test)\n",
    "accuracy = r2_score(y_test, y_pred)*100\n",
    "print(\"The prediction of test dataset:\", accuracy)"
   ]
  },
  {
   "cell_type": "code",
   "execution_count": 37,
   "id": "3c3aa0bf",
   "metadata": {},
   "outputs": [],
   "source": [
    "#RandomizedSearchCV\n",
    "\n",
    "#Hyperparameters\n",
    "n_estimators=  [int(x) for x in np.linspace(start=100,stop=1200, num=12)]\n",
    "\n",
    "#Number of features to consider at every split\n",
    "max_features= ['auto','sqrt']\n",
    "\n",
    "#max number of level trees\n",
    "max_depth=[int(x) for x in np.linspace(start=5,stop=30, num = 6)]\n",
    "#max depth.append(None)\n",
    "\n",
    "#min number of samples requeired to split a node\n",
    "min_samples_split= [2,5,9,14,23]\n",
    "\n",
    "#min number of samples requeired to split a leaf node\n",
    "min_samples_leaf= [1,4,9,6,13]"
   ]
  },
  {
   "cell_type": "code",
   "execution_count": 38,
   "id": "1c735b4f",
   "metadata": {},
   "outputs": [
    {
     "name": "stdout",
     "output_type": "stream",
     "text": [
      "{'n_estimators': [100, 200, 300, 400, 500, 600, 700, 800, 900, 1000, 1100, 1200], 'max_features': ['auto', 'sqrt'], 'max_depth': [5, 10, 15, 20, 25, 30], 'min_samples_split': [2, 5, 9, 14, 23], 'min_samples_leaf': [1, 4, 9, 6, 13]}\n"
     ]
    }
   ],
   "source": [
    "# Create the random grid\n",
    "random_grid = {'n_estimators': n_estimators,\n",
    "               'max_features':max_features,\n",
    "               'max_depth': max_depth,\n",
    "               'min_samples_split': min_samples_split,\n",
    "               'min_samples_leaf': min_samples_leaf}\n",
    "\n",
    "print(random_grid)"
   ]
  },
  {
   "cell_type": "code",
   "execution_count": 39,
   "id": "4de6361d",
   "metadata": {},
   "outputs": [],
   "source": [
    "rf_random = RandomizedSearchCV(estimator = randomforest, param_distributions = random_grid,scoring='neg_mean_squared_error', n_iter = 10, cv = 5, verbose=2, random_state=42, n_jobs = 1)"
   ]
  },
  {
   "cell_type": "code",
   "execution_count": 40,
   "id": "21962b27",
   "metadata": {},
   "outputs": [
    {
     "name": "stdout",
     "output_type": "stream",
     "text": [
      "Fitting 5 folds for each of 10 candidates, totalling 50 fits\n",
      "[CV] END max_depth=30, max_features=auto, min_samples_leaf=9, min_samples_split=23, n_estimators=700; total time=   2.3s\n",
      "[CV] END max_depth=30, max_features=auto, min_samples_leaf=9, min_samples_split=23, n_estimators=700; total time=   2.3s\n",
      "[CV] END max_depth=30, max_features=auto, min_samples_leaf=9, min_samples_split=23, n_estimators=700; total time=   2.3s\n",
      "[CV] END max_depth=30, max_features=auto, min_samples_leaf=9, min_samples_split=23, n_estimators=700; total time=   2.4s\n",
      "[CV] END max_depth=30, max_features=auto, min_samples_leaf=9, min_samples_split=23, n_estimators=700; total time=   2.4s\n",
      "[CV] END max_depth=30, max_features=sqrt, min_samples_leaf=6, min_samples_split=9, n_estimators=400; total time=   0.7s\n",
      "[CV] END max_depth=30, max_features=sqrt, min_samples_leaf=6, min_samples_split=9, n_estimators=400; total time=   0.7s\n",
      "[CV] END max_depth=30, max_features=sqrt, min_samples_leaf=6, min_samples_split=9, n_estimators=400; total time=   0.7s\n",
      "[CV] END max_depth=30, max_features=sqrt, min_samples_leaf=6, min_samples_split=9, n_estimators=400; total time=   0.7s\n",
      "[CV] END max_depth=30, max_features=sqrt, min_samples_leaf=6, min_samples_split=9, n_estimators=400; total time=   0.7s\n",
      "[CV] END max_depth=10, max_features=auto, min_samples_leaf=13, min_samples_split=5, n_estimators=900; total time=   3.4s\n",
      "[CV] END max_depth=10, max_features=auto, min_samples_leaf=13, min_samples_split=5, n_estimators=900; total time=   3.7s\n",
      "[CV] END max_depth=10, max_features=auto, min_samples_leaf=13, min_samples_split=5, n_estimators=900; total time=   3.3s\n",
      "[CV] END max_depth=10, max_features=auto, min_samples_leaf=13, min_samples_split=5, n_estimators=900; total time=   3.4s\n",
      "[CV] END max_depth=10, max_features=auto, min_samples_leaf=13, min_samples_split=5, n_estimators=900; total time=   3.3s\n",
      "[CV] END max_depth=15, max_features=auto, min_samples_leaf=4, min_samples_split=9, n_estimators=1100; total time=   4.9s\n",
      "[CV] END max_depth=15, max_features=auto, min_samples_leaf=4, min_samples_split=9, n_estimators=1100; total time=   4.9s\n",
      "[CV] END max_depth=15, max_features=auto, min_samples_leaf=4, min_samples_split=9, n_estimators=1100; total time=   5.7s\n",
      "[CV] END max_depth=15, max_features=auto, min_samples_leaf=4, min_samples_split=9, n_estimators=1100; total time=   5.2s\n",
      "[CV] END max_depth=15, max_features=auto, min_samples_leaf=4, min_samples_split=9, n_estimators=1100; total time=   5.1s\n",
      "[CV] END max_depth=10, max_features=sqrt, min_samples_leaf=6, min_samples_split=23, n_estimators=300; total time=   0.6s\n",
      "[CV] END max_depth=10, max_features=sqrt, min_samples_leaf=6, min_samples_split=23, n_estimators=300; total time=   0.6s\n",
      "[CV] END max_depth=10, max_features=sqrt, min_samples_leaf=6, min_samples_split=23, n_estimators=300; total time=   0.6s\n",
      "[CV] END max_depth=10, max_features=sqrt, min_samples_leaf=6, min_samples_split=23, n_estimators=300; total time=   0.9s\n",
      "[CV] END max_depth=10, max_features=sqrt, min_samples_leaf=6, min_samples_split=23, n_estimators=300; total time=   0.9s\n",
      "[CV] END max_depth=10, max_features=sqrt, min_samples_leaf=6, min_samples_split=5, n_estimators=400; total time=   1.2s\n",
      "[CV] END max_depth=10, max_features=sqrt, min_samples_leaf=6, min_samples_split=5, n_estimators=400; total time=   1.1s\n",
      "[CV] END max_depth=10, max_features=sqrt, min_samples_leaf=6, min_samples_split=5, n_estimators=400; total time=   1.1s\n",
      "[CV] END max_depth=10, max_features=sqrt, min_samples_leaf=6, min_samples_split=5, n_estimators=400; total time=   1.2s\n",
      "[CV] END max_depth=10, max_features=sqrt, min_samples_leaf=6, min_samples_split=5, n_estimators=400; total time=   1.0s\n",
      "[CV] END max_depth=30, max_features=auto, min_samples_leaf=4, min_samples_split=9, n_estimators=900; total time=   4.7s\n",
      "[CV] END max_depth=30, max_features=auto, min_samples_leaf=4, min_samples_split=9, n_estimators=900; total time=   5.2s\n",
      "[CV] END max_depth=30, max_features=auto, min_samples_leaf=4, min_samples_split=9, n_estimators=900; total time=   4.9s\n",
      "[CV] END max_depth=30, max_features=auto, min_samples_leaf=4, min_samples_split=9, n_estimators=900; total time=   4.6s\n",
      "[CV] END max_depth=30, max_features=auto, min_samples_leaf=4, min_samples_split=9, n_estimators=900; total time=   4.4s\n",
      "[CV] END max_depth=15, max_features=sqrt, min_samples_leaf=9, min_samples_split=5, n_estimators=700; total time=   1.6s\n",
      "[CV] END max_depth=15, max_features=sqrt, min_samples_leaf=9, min_samples_split=5, n_estimators=700; total time=   1.6s\n",
      "[CV] END max_depth=15, max_features=sqrt, min_samples_leaf=9, min_samples_split=5, n_estimators=700; total time=   1.7s\n",
      "[CV] END max_depth=15, max_features=sqrt, min_samples_leaf=9, min_samples_split=5, n_estimators=700; total time=   1.6s\n",
      "[CV] END max_depth=15, max_features=sqrt, min_samples_leaf=9, min_samples_split=5, n_estimators=700; total time=   1.7s\n",
      "[CV] END max_depth=20, max_features=sqrt, min_samples_leaf=4, min_samples_split=2, n_estimators=1000; total time=   2.7s\n",
      "[CV] END max_depth=20, max_features=sqrt, min_samples_leaf=4, min_samples_split=2, n_estimators=1000; total time=   2.6s\n",
      "[CV] END max_depth=20, max_features=sqrt, min_samples_leaf=4, min_samples_split=2, n_estimators=1000; total time=   2.6s\n",
      "[CV] END max_depth=20, max_features=sqrt, min_samples_leaf=4, min_samples_split=2, n_estimators=1000; total time=   2.7s\n",
      "[CV] END max_depth=20, max_features=sqrt, min_samples_leaf=4, min_samples_split=2, n_estimators=1000; total time=   2.7s\n",
      "[CV] END max_depth=5, max_features=sqrt, min_samples_leaf=9, min_samples_split=14, n_estimators=1100; total time=   1.9s\n",
      "[CV] END max_depth=5, max_features=sqrt, min_samples_leaf=9, min_samples_split=14, n_estimators=1100; total time=   1.9s\n",
      "[CV] END max_depth=5, max_features=sqrt, min_samples_leaf=9, min_samples_split=14, n_estimators=1100; total time=   1.9s\n",
      "[CV] END max_depth=5, max_features=sqrt, min_samples_leaf=9, min_samples_split=14, n_estimators=1100; total time=   2.0s\n",
      "[CV] END max_depth=5, max_features=sqrt, min_samples_leaf=9, min_samples_split=14, n_estimators=1100; total time=   2.1s\n"
     ]
    },
    {
     "data": {
      "text/plain": [
       "RandomizedSearchCV(cv=5, estimator=RandomForestRegressor(), n_jobs=1,\n",
       "                   param_distributions={'max_depth': [5, 10, 15, 20, 25, 30],\n",
       "                                        'max_features': ['auto', 'sqrt'],\n",
       "                                        'min_samples_leaf': [1, 4, 9, 6, 13],\n",
       "                                        'min_samples_split': [2, 5, 9, 14, 23],\n",
       "                                        'n_estimators': [100, 200, 300, 400,\n",
       "                                                         500, 600, 700, 800,\n",
       "                                                         900, 1000, 1100,\n",
       "                                                         1200]},\n",
       "                   random_state=42, scoring='neg_mean_squared_error',\n",
       "                   verbose=2)"
      ]
     },
     "execution_count": 40,
     "metadata": {},
     "output_type": "execute_result"
    }
   ],
   "source": [
    "rf_random.fit(X_train, y_train)"
   ]
  },
  {
   "cell_type": "code",
   "execution_count": 41,
   "id": "c9cc91e9",
   "metadata": {},
   "outputs": [
    {
     "name": "stdout",
     "output_type": "stream",
     "text": [
      "Fitting 5 folds for each of 10 candidates, totalling 50 fits\n",
      "[CV] END max_depth=30, max_features=auto, min_samples_leaf=9, min_samples_split=23, n_estimators=700; total time=   2.9s\n",
      "[CV] END max_depth=30, max_features=auto, min_samples_leaf=9, min_samples_split=23, n_estimators=700; total time=   2.8s\n",
      "[CV] END max_depth=30, max_features=auto, min_samples_leaf=9, min_samples_split=23, n_estimators=700; total time=   2.9s\n",
      "[CV] END max_depth=30, max_features=auto, min_samples_leaf=9, min_samples_split=23, n_estimators=700; total time=   3.0s\n",
      "[CV] END max_depth=30, max_features=auto, min_samples_leaf=9, min_samples_split=23, n_estimators=700; total time=   2.8s\n",
      "[CV] END max_depth=30, max_features=sqrt, min_samples_leaf=6, min_samples_split=9, n_estimators=400; total time=   0.9s\n",
      "[CV] END max_depth=30, max_features=sqrt, min_samples_leaf=6, min_samples_split=9, n_estimators=400; total time=   0.9s\n",
      "[CV] END max_depth=30, max_features=sqrt, min_samples_leaf=6, min_samples_split=9, n_estimators=400; total time=   0.9s\n",
      "[CV] END max_depth=30, max_features=sqrt, min_samples_leaf=6, min_samples_split=9, n_estimators=400; total time=   0.9s\n",
      "[CV] END max_depth=30, max_features=sqrt, min_samples_leaf=6, min_samples_split=9, n_estimators=400; total time=   0.9s\n",
      "[CV] END max_depth=10, max_features=auto, min_samples_leaf=13, min_samples_split=5, n_estimators=900; total time=   3.4s\n",
      "[CV] END max_depth=10, max_features=auto, min_samples_leaf=13, min_samples_split=5, n_estimators=900; total time=   3.3s\n",
      "[CV] END max_depth=10, max_features=auto, min_samples_leaf=13, min_samples_split=5, n_estimators=900; total time=   3.4s\n",
      "[CV] END max_depth=10, max_features=auto, min_samples_leaf=13, min_samples_split=5, n_estimators=900; total time=   3.2s\n",
      "[CV] END max_depth=10, max_features=auto, min_samples_leaf=13, min_samples_split=5, n_estimators=900; total time=   3.1s\n",
      "[CV] END max_depth=15, max_features=auto, min_samples_leaf=4, min_samples_split=9, n_estimators=1100; total time=   4.8s\n",
      "[CV] END max_depth=15, max_features=auto, min_samples_leaf=4, min_samples_split=9, n_estimators=1100; total time=   4.7s\n",
      "[CV] END max_depth=15, max_features=auto, min_samples_leaf=4, min_samples_split=9, n_estimators=1100; total time=   4.6s\n",
      "[CV] END max_depth=15, max_features=auto, min_samples_leaf=4, min_samples_split=9, n_estimators=1100; total time=   4.7s\n",
      "[CV] END max_depth=15, max_features=auto, min_samples_leaf=4, min_samples_split=9, n_estimators=1100; total time=   5.0s\n",
      "[CV] END max_depth=10, max_features=sqrt, min_samples_leaf=6, min_samples_split=23, n_estimators=300; total time=   0.5s\n",
      "[CV] END max_depth=10, max_features=sqrt, min_samples_leaf=6, min_samples_split=23, n_estimators=300; total time=   0.5s\n",
      "[CV] END max_depth=10, max_features=sqrt, min_samples_leaf=6, min_samples_split=23, n_estimators=300; total time=   0.5s\n",
      "[CV] END max_depth=10, max_features=sqrt, min_samples_leaf=6, min_samples_split=23, n_estimators=300; total time=   0.5s\n",
      "[CV] END max_depth=10, max_features=sqrt, min_samples_leaf=6, min_samples_split=23, n_estimators=300; total time=   0.5s\n",
      "[CV] END max_depth=10, max_features=sqrt, min_samples_leaf=6, min_samples_split=5, n_estimators=400; total time=   0.7s\n",
      "[CV] END max_depth=10, max_features=sqrt, min_samples_leaf=6, min_samples_split=5, n_estimators=400; total time=   0.7s\n",
      "[CV] END max_depth=10, max_features=sqrt, min_samples_leaf=6, min_samples_split=5, n_estimators=400; total time=   0.7s\n",
      "[CV] END max_depth=10, max_features=sqrt, min_samples_leaf=6, min_samples_split=5, n_estimators=400; total time=   0.8s\n",
      "[CV] END max_depth=10, max_features=sqrt, min_samples_leaf=6, min_samples_split=5, n_estimators=400; total time=   0.7s\n",
      "[CV] END max_depth=30, max_features=auto, min_samples_leaf=4, min_samples_split=9, n_estimators=900; total time=   3.6s\n",
      "[CV] END max_depth=30, max_features=auto, min_samples_leaf=4, min_samples_split=9, n_estimators=900; total time=   3.7s\n",
      "[CV] END max_depth=30, max_features=auto, min_samples_leaf=4, min_samples_split=9, n_estimators=900; total time=   3.6s\n",
      "[CV] END max_depth=30, max_features=auto, min_samples_leaf=4, min_samples_split=9, n_estimators=900; total time=   3.7s\n",
      "[CV] END max_depth=30, max_features=auto, min_samples_leaf=4, min_samples_split=9, n_estimators=900; total time=   3.7s\n",
      "[CV] END max_depth=15, max_features=sqrt, min_samples_leaf=9, min_samples_split=5, n_estimators=700; total time=   1.3s\n",
      "[CV] END max_depth=15, max_features=sqrt, min_samples_leaf=9, min_samples_split=5, n_estimators=700; total time=   1.4s\n",
      "[CV] END max_depth=15, max_features=sqrt, min_samples_leaf=9, min_samples_split=5, n_estimators=700; total time=   1.3s\n",
      "[CV] END max_depth=15, max_features=sqrt, min_samples_leaf=9, min_samples_split=5, n_estimators=700; total time=   1.3s\n",
      "[CV] END max_depth=15, max_features=sqrt, min_samples_leaf=9, min_samples_split=5, n_estimators=700; total time=   1.3s\n",
      "[CV] END max_depth=20, max_features=sqrt, min_samples_leaf=4, min_samples_split=2, n_estimators=1000; total time=   2.2s\n",
      "[CV] END max_depth=20, max_features=sqrt, min_samples_leaf=4, min_samples_split=2, n_estimators=1000; total time=   2.2s\n",
      "[CV] END max_depth=20, max_features=sqrt, min_samples_leaf=4, min_samples_split=2, n_estimators=1000; total time=   2.2s\n",
      "[CV] END max_depth=20, max_features=sqrt, min_samples_leaf=4, min_samples_split=2, n_estimators=1000; total time=   2.2s\n",
      "[CV] END max_depth=20, max_features=sqrt, min_samples_leaf=4, min_samples_split=2, n_estimators=1000; total time=   2.2s\n",
      "[CV] END max_depth=5, max_features=sqrt, min_samples_leaf=9, min_samples_split=14, n_estimators=1100; total time=   1.6s\n",
      "[CV] END max_depth=5, max_features=sqrt, min_samples_leaf=9, min_samples_split=14, n_estimators=1100; total time=   1.6s\n",
      "[CV] END max_depth=5, max_features=sqrt, min_samples_leaf=9, min_samples_split=14, n_estimators=1100; total time=   1.7s\n",
      "[CV] END max_depth=5, max_features=sqrt, min_samples_leaf=9, min_samples_split=14, n_estimators=1100; total time=   1.7s\n",
      "[CV] END max_depth=5, max_features=sqrt, min_samples_leaf=9, min_samples_split=14, n_estimators=1100; total time=   1.7s\n"
     ]
    },
    {
     "data": {
      "text/plain": [
       "RandomizedSearchCV(cv=5, estimator=RandomForestRegressor(), n_jobs=1,\n",
       "                   param_distributions={'max_depth': [5, 10, 15, 20, 25, 30],\n",
       "                                        'max_features': ['auto', 'sqrt'],\n",
       "                                        'min_samples_leaf': [1, 4, 9, 6, 13],\n",
       "                                        'min_samples_split': [2, 5, 9, 14, 23],\n",
       "                                        'n_estimators': [100, 200, 300, 400,\n",
       "                                                         500, 600, 700, 800,\n",
       "                                                         900, 1000, 1100,\n",
       "                                                         1200]},\n",
       "                   random_state=42, scoring='neg_mean_squared_error',\n",
       "                   verbose=2)"
      ]
     },
     "execution_count": 41,
     "metadata": {},
     "output_type": "execute_result"
    }
   ],
   "source": [
    "rf_random.best_estimator_\n",
    "rf_random.fit(X_train, y_train)"
   ]
  },
  {
   "cell_type": "code",
   "execution_count": 42,
   "id": "b80506d8",
   "metadata": {},
   "outputs": [
    {
     "name": "stdout",
     "output_type": "stream",
     "text": [
      "1044\n",
      "1044\n"
     ]
    }
   ],
   "source": [
    "predictions=rf_random.predict(X_test)\n",
    "print(len(predictions))\n",
    "print(len(y_test))"
   ]
  },
  {
   "cell_type": "code",
   "execution_count": 43,
   "id": "3a07d903",
   "metadata": {},
   "outputs": [
    {
     "data": {
      "text/plain": [
       "0.5103266590564395"
      ]
     },
     "execution_count": 43,
     "metadata": {},
     "output_type": "execute_result"
    }
   ],
   "source": [
    "score = r2_score(y_test, predictions)\n",
    "score"
   ]
  },
  {
   "cell_type": "code",
   "execution_count": 57,
   "id": "ce68e676",
   "metadata": {},
   "outputs": [
    {
     "name": "stdout",
     "output_type": "stream",
     "text": [
      "Mean Absolute Error: 1.721044061302682\n",
      "Root Mean Squared Error 2.5018659894404363\n"
     ]
    },
    {
     "data": {
      "text/plain": [
       "array([0.48621663, 0.54949825, 0.58086761, 0.46579126, 0.35939786])"
      ]
     },
     "execution_count": 57,
     "metadata": {},
     "output_type": "execute_result"
    }
   ],
   "source": [
    "print(\"Mean Absolute Error:\",mean_absolute_error(y_test, y_pred))\n",
    "print(\"Root Mean Squared Error\", mean_squared_error(y_test, y_pred, squared=False))\n",
    "\n",
    "cross_val_score(regression,X_test, y_test)"
   ]
  },
  {
   "cell_type": "markdown",
   "id": "9adfe6f5",
   "metadata": {},
   "source": [
    "### XGBoost"
   ]
  },
  {
   "cell_type": "code",
   "execution_count": 45,
   "id": "29fbfdbf",
   "metadata": {},
   "outputs": [
    {
     "data": {
      "text/plain": [
       "XGBRegressor(base_score=0.5, booster='gbtree', colsample_bylevel=1,\n",
       "             colsample_bynode=1, colsample_bytree=1, enable_categorical=False,\n",
       "             gamma=0, gpu_id=-1, importance_type=None,\n",
       "             interaction_constraints='', learning_rate=0.300000012,\n",
       "             max_delta_step=0, max_depth=6, min_child_weight=1, missing=nan,\n",
       "             monotone_constraints='()', n_estimators=100, n_jobs=8,\n",
       "             num_parallel_tree=1, predictor='auto', random_state=0, reg_alpha=0,\n",
       "             reg_lambda=1, scale_pos_weight=1, subsample=1, tree_method='exact',\n",
       "             validate_parameters=1, verbosity=None)"
      ]
     },
     "execution_count": 45,
     "metadata": {},
     "output_type": "execute_result"
    }
   ],
   "source": [
    "#instantiation >> fit\n",
    "xgb = XGBRegressor()\n",
    "\n",
    "xgb.fit(X_train, y_train)"
   ]
  },
  {
   "cell_type": "code",
   "execution_count": 48,
   "id": "54f109c1",
   "metadata": {},
   "outputs": [],
   "source": [
    "xgb_preds = xgb.predict(X_test)"
   ]
  },
  {
   "cell_type": "code",
   "execution_count": 51,
   "id": "9562aa67",
   "metadata": {},
   "outputs": [
    {
     "name": "stdout",
     "output_type": "stream",
     "text": [
      "MAE: 1.7659564696509262\n",
      "Accuracy: 0.43498429636279223\n"
     ]
    }
   ],
   "source": [
    "print(\"MAE: \" + str(mean_absolute_error(xgb_preds,y_test)))\n",
    "print(\"Accuracy:\",xgb.score(X_test,y_test))"
   ]
  },
  {
   "cell_type": "markdown",
   "id": "5f349c20",
   "metadata": {},
   "source": [
    "### Let us hyperparameter tuning for the model to check if we can increase the accuracy"
   ]
  },
  {
   "cell_type": "code",
   "execution_count": 55,
   "id": "196f1655",
   "metadata": {},
   "outputs": [
    {
     "name": "stdout",
     "output_type": "stream",
     "text": [
      "[21:53:24] WARNING: ..\\src\\learner.cc:576: \n",
      "Parameters: { \"learning_rat\" } might not be used.\n",
      "\n",
      "  This could be a false alarm, with some parameters getting used by language bindings but\n",
      "  then being mistakenly passed down to XGBoost core, or some parameter actually being used\n",
      "  but getting flagged wrongly here. Please open an issue if you find any such cases.\n",
      "\n",
      "\n",
      "MAE: 1.656123269791804\n",
      "Accuracy: 0.49791793058592637\n"
     ]
    }
   ],
   "source": [
    "xgb_model_II = XGBRegressor(n_estimators=1000,learning_rat=0.05)\n",
    "xgb_model_II.fit(X_train,y_train,early_stopping_rounds=5,\n",
    "             eval_set=[(X_test,y_test)],verbose=False)\n",
    "xgb_preds = xgb_model_II.predict(X_test)\n",
    "print(\"MAE: \" + str(mean_absolute_error(xgb_preds,y_test)))\n",
    "print(\"Accuracy:\",xgb_model_II.score(X_test,y_test))"
   ]
  },
  {
   "cell_type": "markdown",
   "id": "ccf83a9c",
   "metadata": {},
   "source": [
    "### We can see only improvement is slightly marginal. The difference between the XGBoost and Forests is also slightly marginal."
   ]
  },
  {
   "cell_type": "code",
   "execution_count": 56,
   "id": "e8a313f4",
   "metadata": {},
   "outputs": [
    {
     "data": {
      "image/png": "[encoded data removed]",
      "text/plain": [
       "<Figure size 432x288 with 1 Axes>"
      ]
     },
     "metadata": {
      "needs_background": "light"
     },
     "output_type": "display_data"
    }
   ],
   "source": [
    "plt.scatter(y_test,xgb_preds,color='r')\n",
    "plt.xlabel('Actuals')\n",
    "plt.ylabel('Predictions')\n",
    "plt.title('Actuals vs Predictions')\n",
    "plt.show()"
   ]
  },
  {
   "attachments": {},
   "cell_type": "markdown",
   "id": "8dccbeee",
   "metadata": {},
   "source": [
    "### Evaluation of Models\t\t\t\n",
    "Models\t \t\n",
    "\t\t\t\n",
    "Linear Regression\t\n",
    "MAE: Cross-val\t1.72\t\n",
    "Accuracy        49.454\t\n",
    "Rank            3rd    \n",
    "\t\t\t\n",
    "Random Forests\t\n",
    "MAE: Cross-val\t1.721\t\n",
    "Accuracy        51.03\t    \n",
    "Rank            1st\n",
    "\t\t\t\n",
    "XGBoost\t\n",
    "MAE: Cross-val\t1.656123\t\n",
    "Accuracy        49.79\t    \n",
    "Rank            2nd "
   ]
  },
  {
   "cell_type": "markdown",
   "id": "ea7ec402",
   "metadata": {},
   "source": [
    "## Saving the best model:\n",
    "    "
   ]
  },
  {
   "cell_type": "code",
   "execution_count": 58,
   "id": "84c4b910",
   "metadata": {},
   "outputs": [],
   "source": [
    "#save the model\n",
    "import pickle\n",
    "\n",
    "#open a file where you want to store the dat\n",
    "file = open('Abalone_random_forest.pkl','wb')"
   ]
  },
  {
   "cell_type": "code",
   "execution_count": 59,
   "id": "a7d300d6",
   "metadata": {},
   "outputs": [],
   "source": [
    "#dump the information to the file\n",
    "pickle.dump(rf_random,file)"
   ]
  },
  {
   "cell_type": "code",
   "execution_count": null,
   "id": "1ee49f13",
   "metadata": {},
   "outputs": [],
   "source": []
  }
 ],
 "metadata": {
  "kernelspec": {
   "display_name": "Python 3",
   "language": "python",
   "name": "python3"
  },
  "language_info": {
   "codemirror_mode": {
    "name": "ipython",
    "version": 3
   },
   "file_extension": ".py",
   "mimetype": "text/x-python",
   "name": "python",
   "nbconvert_exporter": "python",
   "pygments_lexer": "ipython3",
   "version": "3.8.8"
  }
 },
 "nbformat": 4,
 "nbformat_minor": 5
}
