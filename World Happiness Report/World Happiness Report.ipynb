{
 "cells": [
  {
   "cell_type": "code",
   "execution_count": 12,
   "id": "2c7f6ea8",
   "metadata": {},
   "outputs": [],
   "source": [
    "#import necessary libraries\n",
    "import pandas as pd\n",
    "import numpy as np\n",
    "import matplotlib.pyplot as plt\n",
    "import seaborn as sns\n",
    "\n",
    "%matplotlib inline\n",
    "\n",
    "import warnings\n",
    "warnings.filterwarnings(\"ignore\")"
   ]
  },
  {
   "cell_type": "markdown",
   "id": "a9cc9733",
   "metadata": {},
   "source": [
    "### Import the dataset of World Happiness report.\n",
    "\n",
    "#### The main objective of the project is to predict the \"Happiness score\" of each country based on various features provided (Economy, Family support, GDP, Corruption of government, Freedom, Generosity and Dystopia residual is column used to compare the happiness score with each country.) "
   ]
  },
  {
   "cell_type": "code",
   "execution_count": 13,
   "id": "2eb60be4",
   "metadata": {},
   "outputs": [
    {
     "data": {
      "text/html": [
       "<div>\n",
       "<style scoped>\n",
       "    .dataframe tbody tr th:only-of-type {\n",
       "        vertical-align: middle;\n",
       "    }\n",
       "\n",
       "    .dataframe tbody tr th {\n",
       "        vertical-align: top;\n",
       "    }\n",
       "\n",
       "    .dataframe thead th {\n",
       "        text-align: right;\n",
       "    }\n",
       "</style>\n",
       "<table border=\"1\" class=\"dataframe\">\n",
       "  <thead>\n",
       "    <tr style=\"text-align: right;\">\n",
       "      <th></th>\n",
       "      <th>Country</th>\n",
       "      <th>Region</th>\n",
       "      <th>Happiness Rank</th>\n",
       "      <th>Happiness Score</th>\n",
       "      <th>Standard Error</th>\n",
       "      <th>Economy (GDP per Capita)</th>\n",
       "      <th>Family</th>\n",
       "      <th>Health (Life Expectancy)</th>\n",
       "      <th>Freedom</th>\n",
       "      <th>Trust (Government Corruption)</th>\n",
       "      <th>Generosity</th>\n",
       "      <th>Dystopia Residual</th>\n",
       "    </tr>\n",
       "  </thead>\n",
       "  <tbody>\n",
       "    <tr>\n",
       "      <th>0</th>\n",
       "      <td>Switzerland</td>\n",
       "      <td>Western Europe</td>\n",
       "      <td>1</td>\n",
       "      <td>7.587</td>\n",
       "      <td>0.03411</td>\n",
       "      <td>1.39651</td>\n",
       "      <td>1.34951</td>\n",
       "      <td>0.94143</td>\n",
       "      <td>0.66557</td>\n",
       "      <td>0.41978</td>\n",
       "      <td>0.29678</td>\n",
       "      <td>2.51738</td>\n",
       "    </tr>\n",
       "    <tr>\n",
       "      <th>1</th>\n",
       "      <td>Iceland</td>\n",
       "      <td>Western Europe</td>\n",
       "      <td>2</td>\n",
       "      <td>7.561</td>\n",
       "      <td>0.04884</td>\n",
       "      <td>1.30232</td>\n",
       "      <td>1.40223</td>\n",
       "      <td>0.94784</td>\n",
       "      <td>0.62877</td>\n",
       "      <td>0.14145</td>\n",
       "      <td>0.43630</td>\n",
       "      <td>2.70201</td>\n",
       "    </tr>\n",
       "    <tr>\n",
       "      <th>2</th>\n",
       "      <td>Denmark</td>\n",
       "      <td>Western Europe</td>\n",
       "      <td>3</td>\n",
       "      <td>7.527</td>\n",
       "      <td>0.03328</td>\n",
       "      <td>1.32548</td>\n",
       "      <td>1.36058</td>\n",
       "      <td>0.87464</td>\n",
       "      <td>0.64938</td>\n",
       "      <td>0.48357</td>\n",
       "      <td>0.34139</td>\n",
       "      <td>2.49204</td>\n",
       "    </tr>\n",
       "    <tr>\n",
       "      <th>3</th>\n",
       "      <td>Norway</td>\n",
       "      <td>Western Europe</td>\n",
       "      <td>4</td>\n",
       "      <td>7.522</td>\n",
       "      <td>0.03880</td>\n",
       "      <td>1.45900</td>\n",
       "      <td>1.33095</td>\n",
       "      <td>0.88521</td>\n",
       "      <td>0.66973</td>\n",
       "      <td>0.36503</td>\n",
       "      <td>0.34699</td>\n",
       "      <td>2.46531</td>\n",
       "    </tr>\n",
       "    <tr>\n",
       "      <th>4</th>\n",
       "      <td>Canada</td>\n",
       "      <td>North America</td>\n",
       "      <td>5</td>\n",
       "      <td>7.427</td>\n",
       "      <td>0.03553</td>\n",
       "      <td>1.32629</td>\n",
       "      <td>1.32261</td>\n",
       "      <td>0.90563</td>\n",
       "      <td>0.63297</td>\n",
       "      <td>0.32957</td>\n",
       "      <td>0.45811</td>\n",
       "      <td>2.45176</td>\n",
       "    </tr>\n",
       "    <tr>\n",
       "      <th>...</th>\n",
       "      <td>...</td>\n",
       "      <td>...</td>\n",
       "      <td>...</td>\n",
       "      <td>...</td>\n",
       "      <td>...</td>\n",
       "      <td>...</td>\n",
       "      <td>...</td>\n",
       "      <td>...</td>\n",
       "      <td>...</td>\n",
       "      <td>...</td>\n",
       "      <td>...</td>\n",
       "      <td>...</td>\n",
       "    </tr>\n",
       "    <tr>\n",
       "      <th>153</th>\n",
       "      <td>Rwanda</td>\n",
       "      <td>Sub-Saharan Africa</td>\n",
       "      <td>154</td>\n",
       "      <td>3.465</td>\n",
       "      <td>0.03464</td>\n",
       "      <td>0.22208</td>\n",
       "      <td>0.77370</td>\n",
       "      <td>0.42864</td>\n",
       "      <td>0.59201</td>\n",
       "      <td>0.55191</td>\n",
       "      <td>0.22628</td>\n",
       "      <td>0.67042</td>\n",
       "    </tr>\n",
       "    <tr>\n",
       "      <th>154</th>\n",
       "      <td>Benin</td>\n",
       "      <td>Sub-Saharan Africa</td>\n",
       "      <td>155</td>\n",
       "      <td>3.340</td>\n",
       "      <td>0.03656</td>\n",
       "      <td>0.28665</td>\n",
       "      <td>0.35386</td>\n",
       "      <td>0.31910</td>\n",
       "      <td>0.48450</td>\n",
       "      <td>0.08010</td>\n",
       "      <td>0.18260</td>\n",
       "      <td>1.63328</td>\n",
       "    </tr>\n",
       "    <tr>\n",
       "      <th>155</th>\n",
       "      <td>Syria</td>\n",
       "      <td>Middle East and Northern Africa</td>\n",
       "      <td>156</td>\n",
       "      <td>3.006</td>\n",
       "      <td>0.05015</td>\n",
       "      <td>0.66320</td>\n",
       "      <td>0.47489</td>\n",
       "      <td>0.72193</td>\n",
       "      <td>0.15684</td>\n",
       "      <td>0.18906</td>\n",
       "      <td>0.47179</td>\n",
       "      <td>0.32858</td>\n",
       "    </tr>\n",
       "    <tr>\n",
       "      <th>156</th>\n",
       "      <td>Burundi</td>\n",
       "      <td>Sub-Saharan Africa</td>\n",
       "      <td>157</td>\n",
       "      <td>2.905</td>\n",
       "      <td>0.08658</td>\n",
       "      <td>0.01530</td>\n",
       "      <td>0.41587</td>\n",
       "      <td>0.22396</td>\n",
       "      <td>0.11850</td>\n",
       "      <td>0.10062</td>\n",
       "      <td>0.19727</td>\n",
       "      <td>1.83302</td>\n",
       "    </tr>\n",
       "    <tr>\n",
       "      <th>157</th>\n",
       "      <td>Togo</td>\n",
       "      <td>Sub-Saharan Africa</td>\n",
       "      <td>158</td>\n",
       "      <td>2.839</td>\n",
       "      <td>0.06727</td>\n",
       "      <td>0.20868</td>\n",
       "      <td>0.13995</td>\n",
       "      <td>0.28443</td>\n",
       "      <td>0.36453</td>\n",
       "      <td>0.10731</td>\n",
       "      <td>0.16681</td>\n",
       "      <td>1.56726</td>\n",
       "    </tr>\n",
       "  </tbody>\n",
       "</table>\n",
       "<p>158 rows × 12 columns</p>\n",
       "</div>"
      ],
      "text/plain": [
       "         Country                           Region  Happiness Rank  \\\n",
       "0    Switzerland                   Western Europe               1   \n",
       "1        Iceland                   Western Europe               2   \n",
       "2        Denmark                   Western Europe               3   \n",
       "3         Norway                   Western Europe               4   \n",
       "4         Canada                    North America               5   \n",
       "..           ...                              ...             ...   \n",
       "153       Rwanda               Sub-Saharan Africa             154   \n",
       "154        Benin               Sub-Saharan Africa             155   \n",
       "155        Syria  Middle East and Northern Africa             156   \n",
       "156      Burundi               Sub-Saharan Africa             157   \n",
       "157         Togo               Sub-Saharan Africa             158   \n",
       "\n",
       "     Happiness Score  Standard Error  Economy (GDP per Capita)   Family  \\\n",
       "0              7.587         0.03411                   1.39651  1.34951   \n",
       "1              7.561         0.04884                   1.30232  1.40223   \n",
       "2              7.527         0.03328                   1.32548  1.36058   \n",
       "3              7.522         0.03880                   1.45900  1.33095   \n",
       "4              7.427         0.03553                   1.32629  1.32261   \n",
       "..               ...             ...                       ...      ...   \n",
       "153            3.465         0.03464                   0.22208  0.77370   \n",
       "154            3.340         0.03656                   0.28665  0.35386   \n",
       "155            3.006         0.05015                   0.66320  0.47489   \n",
       "156            2.905         0.08658                   0.01530  0.41587   \n",
       "157            2.839         0.06727                   0.20868  0.13995   \n",
       "\n",
       "     Health (Life Expectancy)  Freedom  Trust (Government Corruption)  \\\n",
       "0                     0.94143  0.66557                        0.41978   \n",
       "1                     0.94784  0.62877                        0.14145   \n",
       "2                     0.87464  0.64938                        0.48357   \n",
       "3                     0.88521  0.66973                        0.36503   \n",
       "4                     0.90563  0.63297                        0.32957   \n",
       "..                        ...      ...                            ...   \n",
       "153                   0.42864  0.59201                        0.55191   \n",
       "154                   0.31910  0.48450                        0.08010   \n",
       "155                   0.72193  0.15684                        0.18906   \n",
       "156                   0.22396  0.11850                        0.10062   \n",
       "157                   0.28443  0.36453                        0.10731   \n",
       "\n",
       "     Generosity  Dystopia Residual  \n",
       "0       0.29678            2.51738  \n",
       "1       0.43630            2.70201  \n",
       "2       0.34139            2.49204  \n",
       "3       0.34699            2.46531  \n",
       "4       0.45811            2.45176  \n",
       "..          ...                ...  \n",
       "153     0.22628            0.67042  \n",
       "154     0.18260            1.63328  \n",
       "155     0.47179            0.32858  \n",
       "156     0.19727            1.83302  \n",
       "157     0.16681            1.56726  \n",
       "\n",
       "[158 rows x 12 columns]"
      ]
     },
     "execution_count": 13,
     "metadata": {},
     "output_type": "execute_result"
    }
   ],
   "source": [
    "data = pd.read_csv(\"happiness_score_dataset.csv\")\n",
    "data"
   ]
  },
  {
   "cell_type": "markdown",
   "id": "0b03b8f4",
   "metadata": {},
   "source": [
    "### Exploratory Data Analysis\n",
    "\n",
    "#### We have got to know about number of rows and columns, We need to have High level undertanding and statistical description of the data so that we can Analyse the data cleanly. Using describe method we can have staistics of dataframe"
   ]
  },
  {
   "cell_type": "code",
   "execution_count": 14,
   "id": "f08e8eb8",
   "metadata": {},
   "outputs": [
    {
     "name": "stdout",
     "output_type": "stream",
     "text": [
      "(158, 12)\n"
     ]
    },
    {
     "data": {
      "text/html": [
       "<div>\n",
       "<style scoped>\n",
       "    .dataframe tbody tr th:only-of-type {\n",
       "        vertical-align: middle;\n",
       "    }\n",
       "\n",
       "    .dataframe tbody tr th {\n",
       "        vertical-align: top;\n",
       "    }\n",
       "\n",
       "    .dataframe thead th {\n",
       "        text-align: right;\n",
       "    }\n",
       "</style>\n",
       "<table border=\"1\" class=\"dataframe\">\n",
       "  <thead>\n",
       "    <tr style=\"text-align: right;\">\n",
       "      <th></th>\n",
       "      <th>Happiness Rank</th>\n",
       "      <th>Happiness Score</th>\n",
       "      <th>Standard Error</th>\n",
       "      <th>Economy (GDP per Capita)</th>\n",
       "      <th>Family</th>\n",
       "      <th>Health (Life Expectancy)</th>\n",
       "      <th>Freedom</th>\n",
       "      <th>Trust (Government Corruption)</th>\n",
       "      <th>Generosity</th>\n",
       "      <th>Dystopia Residual</th>\n",
       "    </tr>\n",
       "  </thead>\n",
       "  <tbody>\n",
       "    <tr>\n",
       "      <th>count</th>\n",
       "      <td>158.000000</td>\n",
       "      <td>158.000000</td>\n",
       "      <td>158.000000</td>\n",
       "      <td>158.000000</td>\n",
       "      <td>158.000000</td>\n",
       "      <td>158.000000</td>\n",
       "      <td>158.000000</td>\n",
       "      <td>158.000000</td>\n",
       "      <td>158.000000</td>\n",
       "      <td>158.000000</td>\n",
       "    </tr>\n",
       "    <tr>\n",
       "      <th>mean</th>\n",
       "      <td>79.493671</td>\n",
       "      <td>5.375734</td>\n",
       "      <td>0.047885</td>\n",
       "      <td>0.846137</td>\n",
       "      <td>0.991046</td>\n",
       "      <td>0.630259</td>\n",
       "      <td>0.428615</td>\n",
       "      <td>0.143422</td>\n",
       "      <td>0.237296</td>\n",
       "      <td>2.098977</td>\n",
       "    </tr>\n",
       "    <tr>\n",
       "      <th>std</th>\n",
       "      <td>45.754363</td>\n",
       "      <td>1.145010</td>\n",
       "      <td>0.017146</td>\n",
       "      <td>0.403121</td>\n",
       "      <td>0.272369</td>\n",
       "      <td>0.247078</td>\n",
       "      <td>0.150693</td>\n",
       "      <td>0.120034</td>\n",
       "      <td>0.126685</td>\n",
       "      <td>0.553550</td>\n",
       "    </tr>\n",
       "    <tr>\n",
       "      <th>min</th>\n",
       "      <td>1.000000</td>\n",
       "      <td>2.839000</td>\n",
       "      <td>0.018480</td>\n",
       "      <td>0.000000</td>\n",
       "      <td>0.000000</td>\n",
       "      <td>0.000000</td>\n",
       "      <td>0.000000</td>\n",
       "      <td>0.000000</td>\n",
       "      <td>0.000000</td>\n",
       "      <td>0.328580</td>\n",
       "    </tr>\n",
       "    <tr>\n",
       "      <th>25%</th>\n",
       "      <td>40.250000</td>\n",
       "      <td>4.526000</td>\n",
       "      <td>0.037268</td>\n",
       "      <td>0.545808</td>\n",
       "      <td>0.856823</td>\n",
       "      <td>0.439185</td>\n",
       "      <td>0.328330</td>\n",
       "      <td>0.061675</td>\n",
       "      <td>0.150553</td>\n",
       "      <td>1.759410</td>\n",
       "    </tr>\n",
       "    <tr>\n",
       "      <th>50%</th>\n",
       "      <td>79.500000</td>\n",
       "      <td>5.232500</td>\n",
       "      <td>0.043940</td>\n",
       "      <td>0.910245</td>\n",
       "      <td>1.029510</td>\n",
       "      <td>0.696705</td>\n",
       "      <td>0.435515</td>\n",
       "      <td>0.107220</td>\n",
       "      <td>0.216130</td>\n",
       "      <td>2.095415</td>\n",
       "    </tr>\n",
       "    <tr>\n",
       "      <th>75%</th>\n",
       "      <td>118.750000</td>\n",
       "      <td>6.243750</td>\n",
       "      <td>0.052300</td>\n",
       "      <td>1.158448</td>\n",
       "      <td>1.214405</td>\n",
       "      <td>0.811013</td>\n",
       "      <td>0.549092</td>\n",
       "      <td>0.180255</td>\n",
       "      <td>0.309883</td>\n",
       "      <td>2.462415</td>\n",
       "    </tr>\n",
       "    <tr>\n",
       "      <th>max</th>\n",
       "      <td>158.000000</td>\n",
       "      <td>7.587000</td>\n",
       "      <td>0.136930</td>\n",
       "      <td>1.690420</td>\n",
       "      <td>1.402230</td>\n",
       "      <td>1.025250</td>\n",
       "      <td>0.669730</td>\n",
       "      <td>0.551910</td>\n",
       "      <td>0.795880</td>\n",
       "      <td>3.602140</td>\n",
       "    </tr>\n",
       "  </tbody>\n",
       "</table>\n",
       "</div>"
      ],
      "text/plain": [
       "       Happiness Rank  Happiness Score  Standard Error  \\\n",
       "count      158.000000       158.000000      158.000000   \n",
       "mean        79.493671         5.375734        0.047885   \n",
       "std         45.754363         1.145010        0.017146   \n",
       "min          1.000000         2.839000        0.018480   \n",
       "25%         40.250000         4.526000        0.037268   \n",
       "50%         79.500000         5.232500        0.043940   \n",
       "75%        118.750000         6.243750        0.052300   \n",
       "max        158.000000         7.587000        0.136930   \n",
       "\n",
       "       Economy (GDP per Capita)      Family  Health (Life Expectancy)  \\\n",
       "count                158.000000  158.000000                158.000000   \n",
       "mean                   0.846137    0.991046                  0.630259   \n",
       "std                    0.403121    0.272369                  0.247078   \n",
       "min                    0.000000    0.000000                  0.000000   \n",
       "25%                    0.545808    0.856823                  0.439185   \n",
       "50%                    0.910245    1.029510                  0.696705   \n",
       "75%                    1.158448    1.214405                  0.811013   \n",
       "max                    1.690420    1.402230                  1.025250   \n",
       "\n",
       "          Freedom  Trust (Government Corruption)  Generosity  \\\n",
       "count  158.000000                     158.000000  158.000000   \n",
       "mean     0.428615                       0.143422    0.237296   \n",
       "std      0.150693                       0.120034    0.126685   \n",
       "min      0.000000                       0.000000    0.000000   \n",
       "25%      0.328330                       0.061675    0.150553   \n",
       "50%      0.435515                       0.107220    0.216130   \n",
       "75%      0.549092                       0.180255    0.309883   \n",
       "max      0.669730                       0.551910    0.795880   \n",
       "\n",
       "       Dystopia Residual  \n",
       "count         158.000000  \n",
       "mean            2.098977  \n",
       "std             0.553550  \n",
       "min             0.328580  \n",
       "25%             1.759410  \n",
       "50%             2.095415  \n",
       "75%             2.462415  \n",
       "max             3.602140  "
      ]
     },
     "execution_count": 14,
     "metadata": {},
     "output_type": "execute_result"
    }
   ],
   "source": [
    "print(data.shape)\n",
    "data.describe()"
   ]
  },
  {
   "cell_type": "code",
   "execution_count": 15,
   "id": "ed0d54b4",
   "metadata": {},
   "outputs": [
    {
     "data": {
      "text/plain": [
       "Country                          0\n",
       "Region                           0\n",
       "Happiness Rank                   0\n",
       "Happiness Score                  0\n",
       "Standard Error                   0\n",
       "Economy (GDP per Capita)         0\n",
       "Family                           0\n",
       "Health (Life Expectancy)         0\n",
       "Freedom                          0\n",
       "Trust (Government Corruption)    0\n",
       "Generosity                       0\n",
       "Dystopia Residual                0\n",
       "dtype: int64"
      ]
     },
     "execution_count": 15,
     "metadata": {},
     "output_type": "execute_result"
    }
   ],
   "source": [
    "data.isna().sum()"
   ]
  },
  {
   "cell_type": "code",
   "execution_count": 16,
   "id": "5fc7968a",
   "metadata": {},
   "outputs": [
    {
     "name": "stdout",
     "output_type": "stream",
     "text": [
      "<class 'pandas.core.frame.DataFrame'>\n",
      "RangeIndex: 158 entries, 0 to 157\n",
      "Data columns (total 12 columns):\n",
      " #   Column                         Non-Null Count  Dtype  \n",
      "---  ------                         --------------  -----  \n",
      " 0   Country                        158 non-null    object \n",
      " 1   Region                         158 non-null    object \n",
      " 2   Happiness Rank                 158 non-null    int64  \n",
      " 3   Happiness Score                158 non-null    float64\n",
      " 4   Standard Error                 158 non-null    float64\n",
      " 5   Economy (GDP per Capita)       158 non-null    float64\n",
      " 6   Family                         158 non-null    float64\n",
      " 7   Health (Life Expectancy)       158 non-null    float64\n",
      " 8   Freedom                        158 non-null    float64\n",
      " 9   Trust (Government Corruption)  158 non-null    float64\n",
      " 10  Generosity                     158 non-null    float64\n",
      " 11  Dystopia Residual              158 non-null    float64\n",
      "dtypes: float64(9), int64(1), object(2)\n",
      "memory usage: 14.9+ KB\n"
     ]
    }
   ],
   "source": [
    "data.info()"
   ]
  },
  {
   "cell_type": "markdown",
   "id": "413daddb",
   "metadata": {},
   "source": [
    "### There are no missing values and 2 categorical varibles which are to be dealt with.  \n",
    "\n",
    "### Let us visualize the interaction between the happiness score and the other six factors that are tracked by the World Happiness Index"
   ]
  },
  {
   "cell_type": "code",
   "execution_count": 17,
   "id": "0c376b11",
   "metadata": {},
   "outputs": [
    {
     "data": {
      "image/png": "[encoded data removed]",
      "text/plain": [
       "<Figure size 1440x1440 with 5 Axes>"
      ]
     },
     "metadata": {},
     "output_type": "display_data"
    }
   ],
   "source": [
    "#visualizing the relationship between independent and dependent variables\n",
    "plt.figure(figsize=(20,20),facecolor='w')\n",
    "ax = plt.subplot(3,3,1)\n",
    "\n",
    "sns.scatterplot(data['Economy (GDP per Capita)'],y=data['Happiness Score'])\n",
    "plt.xlabel('Economy',fontsize=20)\n",
    "\n",
    "ax = plt.subplot(3,3,2)\n",
    "sns.scatterplot(data['Health (Life Expectancy)'],data['Happiness Score'])\n",
    "plt.xlabel('Health',fontsize=20)\n",
    "\n",
    "ax = plt.subplot(3,3,3)\n",
    "sns.scatterplot(data['Freedom'],data['Happiness Score'])\n",
    "plt.xlabel('Freedom',fontsize=20)\n",
    "\n",
    "ax = plt.subplot(3,3,4)\n",
    "sns.scatterplot(data['Trust (Government Corruption)'],data['Happiness Score'])\n",
    "plt.xlabel('Corruption',fontsize=20)\n",
    "\n",
    "ax = plt.subplot(3,3,5)\n",
    "sns.scatterplot(data['Generosity'],data['Happiness Score'])\n",
    "plt.xlabel('Generosity',fontsize=20)\n",
    "\n",
    "plt.show()"
   ]
  },
  {
   "cell_type": "markdown",
   "id": "a339aa71",
   "metadata": {},
   "source": [
    "### Freedom and Economy of country has linear relationship with Happiness score. \n",
    "#### The countries with higher GDP per capita are  to have higher Happiness score.\n",
    "\n",
    "#### We can see some skewness in the features (Trust, Generosity), But as these are important features and we have less information at the point to perform any analysis on these features. Let us deal with outliers"
   ]
  },
  {
   "cell_type": "markdown",
   "id": "b8ce5a0c",
   "metadata": {},
   "source": [
    "## Dealing with outliers \n",
    "\n",
    "#### We can see that we can handle few outliers from the data. As these are important features collected for less number of rows, we have to be very carefull when removing any data. \n"
   ]
  },
  {
   "cell_type": "code",
   "execution_count": 24,
   "id": "270c0ef4",
   "metadata": {},
   "outputs": [
    {
     "data": {
      "text/html": [
       "<div>\n",
       "<style scoped>\n",
       "    .dataframe tbody tr th:only-of-type {\n",
       "        vertical-align: middle;\n",
       "    }\n",
       "\n",
       "    .dataframe tbody tr th {\n",
       "        vertical-align: top;\n",
       "    }\n",
       "\n",
       "    .dataframe thead th {\n",
       "        text-align: right;\n",
       "    }\n",
       "</style>\n",
       "<table border=\"1\" class=\"dataframe\">\n",
       "  <thead>\n",
       "    <tr style=\"text-align: right;\">\n",
       "      <th></th>\n",
       "      <th>Happiness Rank</th>\n",
       "      <th>Happiness Score</th>\n",
       "      <th>Standard Error</th>\n",
       "      <th>Economy (GDP per Capita)</th>\n",
       "      <th>Family</th>\n",
       "      <th>Health (Life Expectancy)</th>\n",
       "      <th>Freedom</th>\n",
       "      <th>Trust (Government Corruption)</th>\n",
       "      <th>Generosity</th>\n",
       "      <th>Dystopia Residual</th>\n",
       "    </tr>\n",
       "  </thead>\n",
       "  <tbody>\n",
       "    <tr>\n",
       "      <th>count</th>\n",
       "      <td>153.000000</td>\n",
       "      <td>153.000000</td>\n",
       "      <td>153.000000</td>\n",
       "      <td>153.000000</td>\n",
       "      <td>153.000000</td>\n",
       "      <td>153.000000</td>\n",
       "      <td>153.000000</td>\n",
       "      <td>153.000000</td>\n",
       "      <td>153.000000</td>\n",
       "      <td>153.000000</td>\n",
       "    </tr>\n",
       "    <tr>\n",
       "      <th>mean</th>\n",
       "      <td>79.882353</td>\n",
       "      <td>5.363778</td>\n",
       "      <td>0.048065</td>\n",
       "      <td>0.840907</td>\n",
       "      <td>0.991133</td>\n",
       "      <td>0.627272</td>\n",
       "      <td>0.423900</td>\n",
       "      <td>0.133468</td>\n",
       "      <td>0.231976</td>\n",
       "      <td>2.115138</td>\n",
       "    </tr>\n",
       "    <tr>\n",
       "      <th>std</th>\n",
       "      <td>45.092440</td>\n",
       "      <td>1.126367</td>\n",
       "      <td>0.017288</td>\n",
       "      <td>0.392277</td>\n",
       "      <td>0.273563</td>\n",
       "      <td>0.247047</td>\n",
       "      <td>0.150184</td>\n",
       "      <td>0.105668</td>\n",
       "      <td>0.119735</td>\n",
       "      <td>0.544523</td>\n",
       "    </tr>\n",
       "    <tr>\n",
       "      <th>min</th>\n",
       "      <td>1.000000</td>\n",
       "      <td>2.839000</td>\n",
       "      <td>0.018480</td>\n",
       "      <td>0.000000</td>\n",
       "      <td>0.000000</td>\n",
       "      <td>0.000000</td>\n",
       "      <td>0.000000</td>\n",
       "      <td>0.000000</td>\n",
       "      <td>0.000000</td>\n",
       "      <td>0.328580</td>\n",
       "    </tr>\n",
       "    <tr>\n",
       "      <th>25%</th>\n",
       "      <td>42.000000</td>\n",
       "      <td>4.550000</td>\n",
       "      <td>0.037290</td>\n",
       "      <td>0.546490</td>\n",
       "      <td>0.860400</td>\n",
       "      <td>0.438730</td>\n",
       "      <td>0.321120</td>\n",
       "      <td>0.059890</td>\n",
       "      <td>0.145740</td>\n",
       "      <td>1.785550</td>\n",
       "    </tr>\n",
       "    <tr>\n",
       "      <th>50%</th>\n",
       "      <td>80.000000</td>\n",
       "      <td>5.212000</td>\n",
       "      <td>0.044120</td>\n",
       "      <td>0.901980</td>\n",
       "      <td>1.032760</td>\n",
       "      <td>0.696390</td>\n",
       "      <td>0.430540</td>\n",
       "      <td>0.105010</td>\n",
       "      <td>0.213330</td>\n",
       "      <td>2.110320</td>\n",
       "    </tr>\n",
       "    <tr>\n",
       "      <th>75%</th>\n",
       "      <td>118.000000</td>\n",
       "      <td>6.130000</td>\n",
       "      <td>0.052320</td>\n",
       "      <td>1.151740</td>\n",
       "      <td>1.216240</td>\n",
       "      <td>0.809250</td>\n",
       "      <td>0.542100</td>\n",
       "      <td>0.173830</td>\n",
       "      <td>0.296780</td>\n",
       "      <td>2.465310</td>\n",
       "    </tr>\n",
       "    <tr>\n",
       "      <th>max</th>\n",
       "      <td>158.000000</td>\n",
       "      <td>7.587000</td>\n",
       "      <td>0.136930</td>\n",
       "      <td>1.563910</td>\n",
       "      <td>1.402230</td>\n",
       "      <td>1.013280</td>\n",
       "      <td>0.669730</td>\n",
       "      <td>0.438440</td>\n",
       "      <td>0.576300</td>\n",
       "      <td>3.602140</td>\n",
       "    </tr>\n",
       "  </tbody>\n",
       "</table>\n",
       "</div>"
      ],
      "text/plain": [
       "       Happiness Rank  Happiness Score  Standard Error  \\\n",
       "count      153.000000       153.000000      153.000000   \n",
       "mean        79.882353         5.363778        0.048065   \n",
       "std         45.092440         1.126367        0.017288   \n",
       "min          1.000000         2.839000        0.018480   \n",
       "25%         42.000000         4.550000        0.037290   \n",
       "50%         80.000000         5.212000        0.044120   \n",
       "75%        118.000000         6.130000        0.052320   \n",
       "max        158.000000         7.587000        0.136930   \n",
       "\n",
       "       Economy (GDP per Capita)      Family  Health (Life Expectancy)  \\\n",
       "count                153.000000  153.000000                153.000000   \n",
       "mean                   0.840907    0.991133                  0.627272   \n",
       "std                    0.392277    0.273563                  0.247047   \n",
       "min                    0.000000    0.000000                  0.000000   \n",
       "25%                    0.546490    0.860400                  0.438730   \n",
       "50%                    0.901980    1.032760                  0.696390   \n",
       "75%                    1.151740    1.216240                  0.809250   \n",
       "max                    1.563910    1.402230                  1.013280   \n",
       "\n",
       "          Freedom  Trust (Government Corruption)  Generosity  \\\n",
       "count  153.000000                     153.000000  153.000000   \n",
       "mean     0.423900                       0.133468    0.231976   \n",
       "std      0.150184                       0.105668    0.119735   \n",
       "min      0.000000                       0.000000    0.000000   \n",
       "25%      0.321120                       0.059890    0.145740   \n",
       "50%      0.430540                       0.105010    0.213330   \n",
       "75%      0.542100                       0.173830    0.296780   \n",
       "max      0.669730                       0.438440    0.576300   \n",
       "\n",
       "       Dystopia Residual  \n",
       "count         153.000000  \n",
       "mean            2.115138  \n",
       "std             0.544523  \n",
       "min             0.328580  \n",
       "25%             1.785550  \n",
       "50%             2.110320  \n",
       "75%             2.465310  \n",
       "max             3.602140  "
      ]
     },
     "execution_count": 24,
     "metadata": {},
     "output_type": "execute_result"
    }
   ],
   "source": [
    "from scipy.stats import zscore\n",
    "z_score  = zscore(data[['Economy (GDP per Capita)','Health (Life Expectancy)','Freedom','Trust (Government Corruption)','Generosity']])\n",
    "abs_z_score = np.abs(z_score)\n",
    "filter_entry = (abs_z_score<3).all(axis=1)\n",
    "data = data[filter_entry]\n",
    "data.describe()"
   ]
  },
  {
   "cell_type": "markdown",
   "id": "d152f5f3",
   "metadata": {},
   "source": [
    "## Let us visualize the correlation between the features available after the outlier removal"
   ]
  },
  {
   "cell_type": "code",
   "execution_count": 25,
   "id": "9c97ac6a",
   "metadata": {},
   "outputs": [
    {
     "data": {
      "image/png": "[encoded data removed]",
      "text/plain": [
       "<Figure size 1440x1440 with 6 Axes>"
      ]
     },
     "metadata": {},
     "output_type": "display_data"
    }
   ],
   "source": [
    "#Let us visualize skewness of data using Histplot.\n",
    "\n",
    "plt.figure(figsize=(20,20),facecolor='w')\n",
    "ax = plt.subplot(3,3,1)\n",
    "sns.histplot(data['Economy (GDP per Capita)'],bins=50)\n",
    "plt.xlabel('Economy',fontsize=20)\n",
    "\n",
    "ax = plt.subplot(3,3,2)\n",
    "sns.histplot(data['Health (Life Expectancy)'],bins=50)\n",
    "plt.xlabel('Health',fontsize=20)\n",
    "\n",
    "ax = plt.subplot(3,3,3)\n",
    "sns.histplot(data['Freedom'],bins=50)\n",
    "plt.xlabel('Freedom',fontsize=20)\n",
    "\n",
    "ax = plt.subplot(3,3,4)\n",
    "sns.histplot(data['Trust (Government Corruption)'],bins=50)\n",
    "plt.xlabel('Trust',fontsize=20)\n",
    "\n",
    "ax = plt.subplot(3,3,5)\n",
    "sns.histplot(data['Generosity'],bins=50)\n",
    "plt.xlabel('Generosity',fontsize=20)\n",
    "\n",
    "ax = plt.subplot(3,3,6)\n",
    "sns.histplot(data['Dystopia Residual'],bins=50)\n",
    "plt.xlabel('Dystopia Residual',fontsize=20)\n",
    "\n",
    "plt.show()"
   ]
  },
  {
   "cell_type": "markdown",
   "id": "cd059057",
   "metadata": {},
   "source": [
    "## Checking for Multi-collinearity between predictors: "
   ]
  },
  {
   "cell_type": "code",
   "execution_count": 26,
   "id": "25ad057e",
   "metadata": {},
   "outputs": [
    {
     "data": {
      "image/png": "[encoded data removed]",
      "text/plain": [
       "<Figure size 1080x720 with 2 Axes>"
      ]
     },
     "metadata": {
      "needs_background": "light"
     },
     "output_type": "display_data"
    }
   ],
   "source": [
    "#let us get co-relation of one variable vs another\n",
    "data_corr = data.corr().abs()\n",
    "\n",
    "#visualizing the multicollinearity\n",
    "plt.figure(figsize=(15,10))\n",
    "sns.heatmap(data_corr,annot=True)\n",
    "plt.show()"
   ]
  },
  {
   "cell_type": "markdown",
   "id": "15023fd6",
   "metadata": {},
   "source": [
    "### We can see that there is no much correlation with the features available.  \n",
    "### PS: Happiness score is the target.\n",
    "### Healthy life expectance and GDP per capita has positive relation.\n",
    "### GDP per capita and Score has strong positive relation - higher the GDP per capita, higher the rank.\n",
    "\n",
    "#### Let us proceed with building the model"
   ]
  },
  {
   "cell_type": "code",
   "execution_count": 27,
   "id": "7018c6ba",
   "metadata": {},
   "outputs": [
    {
     "data": {
      "text/html": [
       "<div>\n",
       "<style scoped>\n",
       "    .dataframe tbody tr th:only-of-type {\n",
       "        vertical-align: middle;\n",
       "    }\n",
       "\n",
       "    .dataframe tbody tr th {\n",
       "        vertical-align: top;\n",
       "    }\n",
       "\n",
       "    .dataframe thead th {\n",
       "        text-align: right;\n",
       "    }\n",
       "</style>\n",
       "<table border=\"1\" class=\"dataframe\">\n",
       "  <thead>\n",
       "    <tr style=\"text-align: right;\">\n",
       "      <th></th>\n",
       "      <th>Standard Error</th>\n",
       "      <th>Economy (GDP per Capita)</th>\n",
       "      <th>Family</th>\n",
       "      <th>Health (Life Expectancy)</th>\n",
       "      <th>Freedom</th>\n",
       "      <th>Trust (Government Corruption)</th>\n",
       "      <th>Generosity</th>\n",
       "    </tr>\n",
       "  </thead>\n",
       "  <tbody>\n",
       "    <tr>\n",
       "      <th>count</th>\n",
       "      <td>153.000000</td>\n",
       "      <td>153.000000</td>\n",
       "      <td>153.000000</td>\n",
       "      <td>153.000000</td>\n",
       "      <td>153.000000</td>\n",
       "      <td>153.000000</td>\n",
       "      <td>153.000000</td>\n",
       "    </tr>\n",
       "    <tr>\n",
       "      <th>mean</th>\n",
       "      <td>0.048065</td>\n",
       "      <td>0.840907</td>\n",
       "      <td>0.991133</td>\n",
       "      <td>0.627272</td>\n",
       "      <td>0.423900</td>\n",
       "      <td>0.133468</td>\n",
       "      <td>0.231976</td>\n",
       "    </tr>\n",
       "    <tr>\n",
       "      <th>std</th>\n",
       "      <td>0.017288</td>\n",
       "      <td>0.392277</td>\n",
       "      <td>0.273563</td>\n",
       "      <td>0.247047</td>\n",
       "      <td>0.150184</td>\n",
       "      <td>0.105668</td>\n",
       "      <td>0.119735</td>\n",
       "    </tr>\n",
       "    <tr>\n",
       "      <th>min</th>\n",
       "      <td>0.018480</td>\n",
       "      <td>0.000000</td>\n",
       "      <td>0.000000</td>\n",
       "      <td>0.000000</td>\n",
       "      <td>0.000000</td>\n",
       "      <td>0.000000</td>\n",
       "      <td>0.000000</td>\n",
       "    </tr>\n",
       "    <tr>\n",
       "      <th>25%</th>\n",
       "      <td>0.037290</td>\n",
       "      <td>0.546490</td>\n",
       "      <td>0.860400</td>\n",
       "      <td>0.438730</td>\n",
       "      <td>0.321120</td>\n",
       "      <td>0.059890</td>\n",
       "      <td>0.145740</td>\n",
       "    </tr>\n",
       "    <tr>\n",
       "      <th>50%</th>\n",
       "      <td>0.044120</td>\n",
       "      <td>0.901980</td>\n",
       "      <td>1.032760</td>\n",
       "      <td>0.696390</td>\n",
       "      <td>0.430540</td>\n",
       "      <td>0.105010</td>\n",
       "      <td>0.213330</td>\n",
       "    </tr>\n",
       "    <tr>\n",
       "      <th>75%</th>\n",
       "      <td>0.052320</td>\n",
       "      <td>1.151740</td>\n",
       "      <td>1.216240</td>\n",
       "      <td>0.809250</td>\n",
       "      <td>0.542100</td>\n",
       "      <td>0.173830</td>\n",
       "      <td>0.296780</td>\n",
       "    </tr>\n",
       "    <tr>\n",
       "      <th>max</th>\n",
       "      <td>0.136930</td>\n",
       "      <td>1.563910</td>\n",
       "      <td>1.402230</td>\n",
       "      <td>1.013280</td>\n",
       "      <td>0.669730</td>\n",
       "      <td>0.438440</td>\n",
       "      <td>0.576300</td>\n",
       "    </tr>\n",
       "  </tbody>\n",
       "</table>\n",
       "</div>"
      ],
      "text/plain": [
       "       Standard Error  Economy (GDP per Capita)      Family  \\\n",
       "count      153.000000                153.000000  153.000000   \n",
       "mean         0.048065                  0.840907    0.991133   \n",
       "std          0.017288                  0.392277    0.273563   \n",
       "min          0.018480                  0.000000    0.000000   \n",
       "25%          0.037290                  0.546490    0.860400   \n",
       "50%          0.044120                  0.901980    1.032760   \n",
       "75%          0.052320                  1.151740    1.216240   \n",
       "max          0.136930                  1.563910    1.402230   \n",
       "\n",
       "       Health (Life Expectancy)     Freedom  Trust (Government Corruption)  \\\n",
       "count                153.000000  153.000000                     153.000000   \n",
       "mean                   0.627272    0.423900                       0.133468   \n",
       "std                    0.247047    0.150184                       0.105668   \n",
       "min                    0.000000    0.000000                       0.000000   \n",
       "25%                    0.438730    0.321120                       0.059890   \n",
       "50%                    0.696390    0.430540                       0.105010   \n",
       "75%                    0.809250    0.542100                       0.173830   \n",
       "max                    1.013280    0.669730                       0.438440   \n",
       "\n",
       "       Generosity  \n",
       "count  153.000000  \n",
       "mean     0.231976  \n",
       "std      0.119735  \n",
       "min      0.000000  \n",
       "25%      0.145740  \n",
       "50%      0.213330  \n",
       "75%      0.296780  \n",
       "max      0.576300  "
      ]
     },
     "execution_count": 27,
     "metadata": {},
     "output_type": "execute_result"
    }
   ],
   "source": [
    "#removing categorical features as we have ranks which specify the countries. And removing target from the data set.\n",
    "X = data.drop(columns=['Country','Region','Happiness Score','Dystopia Residual','Happiness Rank'])\n",
    "y = data['Happiness Score']\n",
    "X.describe() "
   ]
  },
  {
   "cell_type": "markdown",
   "id": "ec96db7f",
   "metadata": {},
   "source": [
    "## Standardizing and scaling the data\n",
    "#### Data standardization is done as to make sure that data is internally consistent; that is, each data type has the same content and format. Standardized values are useful for tracking data that isn't easy to compare otherwise."
   ]
  },
  {
   "cell_type": "code",
   "execution_count": 28,
   "id": "9984d737",
   "metadata": {},
   "outputs": [],
   "source": [
    "#importing the standardscaler library from sklearn\n",
    "from sklearn.preprocessing import StandardScaler\n",
    "scalar = StandardScaler()\n",
    "X_scaled=scalar.fit_transform(X)"
   ]
  },
  {
   "cell_type": "code",
   "execution_count": 29,
   "id": "eb97032f",
   "metadata": {},
   "outputs": [
    {
     "data": {
      "text/plain": [
       "(153, 7)"
      ]
     },
     "execution_count": 29,
     "metadata": {},
     "output_type": "execute_result"
    }
   ],
   "source": [
    "X_scaled.shape"
   ]
  },
  {
   "cell_type": "markdown",
   "id": "31dfbe47",
   "metadata": {},
   "source": [
    "## Model Building\n",
    "\n",
    "### Let us build the model which helps in learning and generalizing from training data and test the unexposed data.\n",
    " \n",
    "### Let us use linear regression and see how well it fits our data.\n",
    "### But first, splitting the dataset into train and test data sets."
   ]
  },
  {
   "cell_type": "code",
   "execution_count": 30,
   "id": "95ff110a",
   "metadata": {},
   "outputs": [],
   "source": [
    "#importing the train_test_split library from sklearn\n",
    "from sklearn.model_selection import train_test_split\n",
    "X_train,X_test, y_train,y_test = train_test_split(X_scaled,y,test_size=0.25, random_state=335)"
   ]
  },
  {
   "cell_type": "code",
   "execution_count": 31,
   "id": "f25d1e44",
   "metadata": {},
   "outputs": [
    {
     "data": {
      "text/plain": [
       "LinearRegression()"
      ]
     },
     "execution_count": 31,
     "metadata": {},
     "output_type": "execute_result"
    }
   ],
   "source": [
    "#importing the linear regression library from sklearn\n",
    "from sklearn.linear_model import LinearRegression\n",
    "from sklearn import metrics\n",
    "#Instantiation\n",
    "reg = LinearRegression()\n",
    "\n",
    "#model fit\n",
    "reg.fit(X_train, y_train)"
   ]
  },
  {
   "cell_type": "code",
   "execution_count": 32,
   "id": "58866506",
   "metadata": {},
   "outputs": [
    {
     "name": "stdout",
     "output_type": "stream",
     "text": [
      "Predicted R2 score of train data: 77.96853686483692\n"
     ]
    }
   ],
   "source": [
    "#model prediction on train data\n",
    "y_train_pred = reg.predict(X_train)\n",
    "accuracy = metrics.r2_score(y_train, y_train_pred)\n",
    "print(\"Predicted R2 score of train data:\",accuracy*100)"
   ]
  },
  {
   "cell_type": "markdown",
   "id": "fdd9a954",
   "metadata": {},
   "source": [
    "### As the data is already seen by the model, the score is very high, Let us predict for unseen data"
   ]
  },
  {
   "cell_type": "code",
   "execution_count": 33,
   "id": "72fd58dd",
   "metadata": {},
   "outputs": [
    {
     "name": "stdout",
     "output_type": "stream",
     "text": [
      "Predicted R2 score of test data: 74.47219681829878\n"
     ]
    }
   ],
   "source": [
    "#predicting the test data with model  \n",
    "y_test_pred = reg.predict(X_test) \n",
    "accuracy = metrics.r2_score(y_test, y_test_pred)\n",
    "print(\"Predicted R2 score of test data:\",accuracy*100)"
   ]
  },
  {
   "cell_type": "code",
   "execution_count": 34,
   "id": "cdda69fb",
   "metadata": {
    "scrolled": true
   },
   "outputs": [
    {
     "data": {
      "image/png": "[encoded data removed]",
      "text/plain": [
       "<Figure size 432x288 with 1 Axes>"
      ]
     },
     "metadata": {
      "needs_background": "light"
     },
     "output_type": "display_data"
    }
   ],
   "source": [
    "#Visualizing the predicted vs actual data\n",
    "\n",
    "sns.regplot(x=y_test,y=y_test_pred)\n",
    "plt.xlabel(\"Actual\")\n",
    "plt.ylabel(\"Predicted\")\n",
    "\n",
    "plt.show()"
   ]
  },
  {
   "cell_type": "code",
   "execution_count": 35,
   "id": "fae712ca",
   "metadata": {},
   "outputs": [
    {
     "name": "stdout",
     "output_type": "stream",
     "text": [
      "Mean Absolute Error: 0.4059147841415388\n",
      "Mean Squared Error 0.3151361795821418\n"
     ]
    }
   ],
   "source": [
    "print(\"Mean Absolute Error:\",metrics.mean_absolute_error(y_test, y_test_pred))\n",
    "print(\"Mean Squared Error\", metrics.mean_squared_error(y_test, y_test_pred))"
   ]
  },
  {
   "cell_type": "markdown",
   "id": "34a82d17",
   "metadata": {},
   "source": [
    "This is the average error made by the model in predicting the labels.\n",
    "\n",
    "##  Model Evaluation and Model Tuning\n",
    "### Let us evaluate how well the our data fits the model. \n",
    "\n",
    "### Let us use Ridge regularization score to check if our model overfits."
   ]
  },
  {
   "cell_type": "code",
   "execution_count": 36,
   "id": "a1fbc626",
   "metadata": {},
   "outputs": [
    {
     "data": {
      "text/plain": [
       "RidgeCV(alphas=array([0.001, 0.011, 0.021, 0.031, 0.041, 0.051, 0.061, 0.071, 0.081,\n",
       "       0.091]),\n",
       "        normalize=True)"
      ]
     },
     "execution_count": 36,
     "metadata": {},
     "output_type": "execute_result"
    }
   ],
   "source": [
    "from sklearn.linear_model import Ridge,RidgeCV\n",
    "ridgeCV =RidgeCV(alphas=np.arange(0.001,0.1,0.01), normalize=True)\n",
    "ridgeCV.fit(X_train, y_train)"
   ]
  },
  {
   "cell_type": "code",
   "execution_count": 37,
   "id": "db07a33a",
   "metadata": {},
   "outputs": [
    {
     "data": {
      "text/plain": [
       "0.09099999999999998"
      ]
     },
     "execution_count": 37,
     "metadata": {},
     "output_type": "execute_result"
    }
   ],
   "source": [
    "ridgeCV.alpha_"
   ]
  },
  {
   "cell_type": "code",
   "execution_count": 38,
   "id": "45529770",
   "metadata": {},
   "outputs": [
    {
     "data": {
      "text/plain": [
       "Ridge(alpha=0.09099999999999998)"
      ]
     },
     "execution_count": 38,
     "metadata": {},
     "output_type": "execute_result"
    }
   ],
   "source": [
    "ridge_reg = Ridge(alpha=ridgeCV.alpha_)\n",
    "ridge_reg.fit(X_test, y_test)"
   ]
  },
  {
   "cell_type": "code",
   "execution_count": 39,
   "id": "6a1a9540",
   "metadata": {},
   "outputs": [
    {
     "data": {
      "text/plain": [
       "81.08944024161315"
      ]
     },
     "execution_count": 39,
     "metadata": {},
     "output_type": "execute_result"
    }
   ],
   "source": [
    "ridge_reg.score(X_test, y_test)*100"
   ]
  },
  {
   "cell_type": "code",
   "execution_count": 41,
   "id": "70b594c7",
   "metadata": {},
   "outputs": [
    {
     "data": {
      "text/plain": [
       "array([6.98315527])"
      ]
     },
     "execution_count": 41,
     "metadata": {},
     "output_type": "execute_result"
    }
   ],
   "source": [
    "#checking how \n",
    "y_test_pred = ridge_reg.predict((scalar.transform([[0.04884,1.30232,1.40223,0.94784,0.62877,0.14145,0.43630]])))\n",
    "y_test_pred "
   ]
  },
  {
   "cell_type": "markdown",
   "id": "0a48a0df",
   "metadata": {},
   "source": [
    "### We could see that after regularization the accuracy could be increasd upto 81%.\n",
    "\n"
   ]
  },
  {
   "cell_type": "markdown",
   "id": "e3343b8e",
   "metadata": {},
   "source": [
    "## Saving the model using PICKLE"
   ]
  },
  {
   "cell_type": "code",
   "execution_count": 42,
   "id": "20f63b3e",
   "metadata": {},
   "outputs": [],
   "source": [
    "import pickle\n",
    "filename = 'Finalized_Happiness.pickle'\n",
    "pickle.dump(reg,open(filename,'wb'))"
   ]
  },
  {
   "cell_type": "code",
   "execution_count": 43,
   "id": "e054d68e",
   "metadata": {},
   "outputs": [
    {
     "name": "stdout",
     "output_type": "stream",
     "text": [
      "The predicted value for the given input features is: [7.0707803]\n"
     ]
    }
   ],
   "source": [
    "#prediction using saved model\n",
    "\n",
    "loaded = pickle.load(open(filename,'rb'))\n",
    "yhat = (loaded.predict(scalar.transform([[0.04884,1.30232,1.40223,0.94784,0.62877,0.14145,0.43630]])))\n",
    "print(\"The predicted value for the given input features is:\", yhat)"
   ]
  },
  {
   "cell_type": "code",
   "execution_count": 44,
   "id": "b2179a2c",
   "metadata": {},
   "outputs": [
    {
     "data": {
      "text/plain": [
       "RandomForestRegressor()"
      ]
     },
     "execution_count": 44,
     "metadata": {},
     "output_type": "execute_result"
    }
   ],
   "source": [
    "#Let us try with different model.\n",
    "\n",
    "from sklearn.ensemble import RandomForestRegressor\n",
    "from sklearn.model_selection import GridSearchCV\n",
    "\n",
    "randomforest = RandomForestRegressor()\n",
    "randomforest.fit(X_train, y_train)"
   ]
  },
  {
   "cell_type": "code",
   "execution_count": 45,
   "id": "282f8fdc",
   "metadata": {},
   "outputs": [
    {
     "name": "stdout",
     "output_type": "stream",
     "text": [
      "The prediction of test dataset: 72.89027090823001\n"
     ]
    }
   ],
   "source": [
    "#predicting the test datasets\n",
    "y_test_pred = randomforest.predict(X_test)\n",
    "accuracy = metrics.r2_score(y_test, y_test_pred)*100\n",
    "print(\"The prediction of test dataset:\", accuracy)"
   ]
  },
  {
   "cell_type": "markdown",
   "id": "5d1f3d56",
   "metadata": {},
   "source": [
    "## Let us tune the parameters using GridsearchCV"
   ]
  },
  {
   "cell_type": "code",
   "execution_count": 46,
   "id": "0d3306af",
   "metadata": {},
   "outputs": [
    {
     "name": "stdout",
     "output_type": "stream",
     "text": [
      "The best parameters: {'criterion': 'mae', 'max_depth': 10, 'min_samples_split': 14, 'n_estimators': 28}\n"
     ]
    }
   ],
   "source": [
    "#Hyperparameter tuning\n",
    "params = {'n_estimators':[28], 'criterion':['mae','mse'],'max_depth':[10,17,43,23,15],'min_samples_split':[2,8,5,14,10]}\n",
    "grid = GridSearchCV(randomforest, param_grid=params)\n",
    "grid.fit(X_train, y_train)\n",
    "print(\"The best parameters:\",grid.best_params_)"
   ]
  },
  {
   "cell_type": "code",
   "execution_count": 47,
   "id": "f64a7fbb",
   "metadata": {},
   "outputs": [],
   "source": [
    "#instantiating randomforest with best parameters obtained\n",
    "randomforest = grid.best_estimator_\n",
    "randomforest.fit(X_train, y_train)\n",
    "y_test_pred = randomforest.predict(X_test)\n"
   ]
  },
  {
   "cell_type": "code",
   "execution_count": 48,
   "id": "a26df591",
   "metadata": {},
   "outputs": [
    {
     "data": {
      "text/plain": [
       "72.74167680621704"
      ]
     },
     "execution_count": 48,
     "metadata": {},
     "output_type": "execute_result"
    }
   ],
   "source": [
    "#checking the score prediction on test data set\n",
    "accuracy = metrics.r2_score(y_test, y_test_pred)*100\n",
    "accuracy"
   ]
  },
  {
   "cell_type": "markdown",
   "id": "59adeca9",
   "metadata": {},
   "source": [
    "# Conclusion:\n",
    "\n",
    "1. We used Standard Error, Economy (GDP per Capita), Family\tHealth (Life Expectancy), Freedom, Trust (Government Corruption) and Generosity features to predict the Happiness Score of the country.\n",
    "2. We analysed the relationship between the happiness score and six factors.\n",
    "3. We tried to handle outliers based on some features having outliers.\n",
    "4. Finally we can say that GDP per capita, social support, healthy life expectancy and freedom to make your own life choices had the greatest impact on happiness scores.\n",
    "5. We built the model to predict Happiness score by spliting the dataset into test and train data sets. \n",
    "   Using Linear regression model we could fit the data and by applying regularization techniques We obtained 81% of accuracy of \n",
    "   predicting data.\n",
    "6. Saved the model using Pickle so as to use in future case.\n",
    "6. Using RandomForest Algorithm and GridCV Hyperparameter optimization techniques, the accuracy score was 74.47%.\n"
   ]
  },
  {
   "cell_type": "code",
   "execution_count": null,
   "id": "e7e7a1c2",
   "metadata": {
    "scrolled": true
   },
   "outputs": [],
   "source": []
  },
  {
   "cell_type": "code",
   "execution_count": null,
   "id": "44a7e6c3",
   "metadata": {},
   "outputs": [],
   "source": []
  },
  {
   "cell_type": "code",
   "execution_count": null,
   "id": "cd7974b5",
   "metadata": {},
   "outputs": [],
   "source": []
  }
 ],
 "metadata": {
  "kernelspec": {
   "display_name": "Python 3",
   "language": "python",
   "name": "python3"
  },
  "language_info": {
   "codemirror_mode": {
    "name": "ipython",
    "version": 3
   },
   "file_extension": ".py",
   "mimetype": "text/x-python",
   "name": "python",
   "nbconvert_exporter": "python",
   "pygments_lexer": "ipython3",
   "version": "3.8.8"
  }
 },
 "nbformat": 4,
 "nbformat_minor": 5
}
